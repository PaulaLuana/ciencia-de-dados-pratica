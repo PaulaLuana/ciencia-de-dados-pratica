{
 "cells": [
  {
   "cell_type": "code",
   "execution_count": 1,
   "id": "bf192f87",
   "metadata": {},
   "outputs": [],
   "source": [
    "import seaborn as sns\n",
    "import pandas as pd\n",
    "import numpy as np\n",
    "import math\n",
    "import matplotlib.pyplot as plt\n",
    "%matplotlib inline"
   ]
  },
  {
   "cell_type": "markdown",
   "id": "eb09718b",
   "metadata": {},
   "source": [
    "# Correlação linear."
   ]
  },
  {
   "cell_type": "markdown",
   "id": "a9e125c4",
   "metadata": {},
   "source": [
    "A correlação linear tem o objetivo de mostrar como duas variáveis estão associadas entre si. Vamos estudar ela, porque sem ela podemos acabar tentando prever algo que não possui relação nenhuma e achar que o problema é modelo que criamos, sendo que é porque nossos dados desde o começo não possuiam correlação. Para evitar que algo do tipo aconteça, vamos estudar, entender e criar nossa própria função de correlação."
   ]
  },
  {
   "cell_type": "markdown",
   "id": "b07f4328",
   "metadata": {},
   "source": [
    "## 1. Correlação de Pearson"
   ]
  },
  {
   "cell_type": "markdown",
   "id": "63ba2e5e",
   "metadata": {},
   "source": [
    "Para medir o grau de correlação entre variáveis, usamos o coeficiente de correlação de Pearson. Que é uma fórmula aplicada sobre suas variáveis, que retorna o grau de correlação entre elas.\n",
    "O grau de correlação pode variar entre -1 e 1. Onde -1 indica que há uma correlação perfeita negativamente, -0.5 que há uma correlação fraca negativamente, 0 não há correlação, 0.5 há uma correlação fraca positivamente e 1 que há uma correção perfeita e postiva, assim como é mostrado a seguir."
   ]
  },
  {
   "cell_type": "markdown",
   "id": "eddd20d1",
   "metadata": {},
   "source": [
    "![](img/grau.png)"
   ]
  },
  {
   "cell_type": "markdown",
   "id": "0ab78a48",
   "metadata": {},
   "source": [
    "### 1.1. A equação"
   ]
  },
  {
   "cell_type": "markdown",
   "id": "18804d84",
   "metadata": {},
   "source": [
    "![](img/corr.png)"
   ]
  },
  {
   "cell_type": "markdown",
   "id": "8cb9b0d0",
   "metadata": {},
   "source": [
    "![](img/corr.jpg)"
   ]
  },
  {
   "cell_type": "markdown",
   "id": "249f056f",
   "metadata": {},
   "source": [
    "**xi** = valor de x na linha i <br>\n",
    "**xbarra** = média dos valores de x <br>\n",
    "**yi** = valor de y na linha i <br>\n",
    "**ybarra** = média dos valores de y <br>"
   ]
  },
  {
   "cell_type": "markdown",
   "id": "feaf84f3",
   "metadata": {},
   "source": [
    "## 2. Correlação de pearson na prática"
   ]
  },
  {
   "cell_type": "markdown",
   "id": "b172c7d7",
   "metadata": {},
   "source": [
    "Agora vamos praticar um pouquinho. Dado o seguinte dataframe, vamos calcular a correlação entre as variáveis."
   ]
  },
  {
   "cell_type": "code",
   "execution_count": 2,
   "id": "4180cd15",
   "metadata": {},
   "outputs": [],
   "source": [
    "casas = pd.DataFrame([[426.72, 245000],\n",
    "                     [487.68,  312000],\n",
    "                     [518.16,  279000], \n",
    "                     [571.5,   308000], \n",
    "                     [335.28,  199000], \n",
    "                     [472.44,  219000],\n",
    "                     [716.28,  405000],\n",
    "                     [746.76,  324000],\n",
    "                     [434.34,  319000],\n",
    "                     [518.16,  255000]], columns=['Tamanho da casa em metros', 'Preço em dolar'])"
   ]
  },
  {
   "cell_type": "code",
   "execution_count": 3,
   "id": "1f031bc4",
   "metadata": {},
   "outputs": [
    {
     "data": {
      "text/html": [
       "<div>\n",
       "<style scoped>\n",
       "    .dataframe tbody tr th:only-of-type {\n",
       "        vertical-align: middle;\n",
       "    }\n",
       "\n",
       "    .dataframe tbody tr th {\n",
       "        vertical-align: top;\n",
       "    }\n",
       "\n",
       "    .dataframe thead th {\n",
       "        text-align: right;\n",
       "    }\n",
       "</style>\n",
       "<table border=\"1\" class=\"dataframe\">\n",
       "  <thead>\n",
       "    <tr style=\"text-align: right;\">\n",
       "      <th></th>\n",
       "      <th>Tamanho da casa em metros</th>\n",
       "      <th>Preço em dolar</th>\n",
       "    </tr>\n",
       "  </thead>\n",
       "  <tbody>\n",
       "    <tr>\n",
       "      <th>0</th>\n",
       "      <td>426.72</td>\n",
       "      <td>245000</td>\n",
       "    </tr>\n",
       "    <tr>\n",
       "      <th>1</th>\n",
       "      <td>487.68</td>\n",
       "      <td>312000</td>\n",
       "    </tr>\n",
       "    <tr>\n",
       "      <th>2</th>\n",
       "      <td>518.16</td>\n",
       "      <td>279000</td>\n",
       "    </tr>\n",
       "    <tr>\n",
       "      <th>3</th>\n",
       "      <td>571.50</td>\n",
       "      <td>308000</td>\n",
       "    </tr>\n",
       "    <tr>\n",
       "      <th>4</th>\n",
       "      <td>335.28</td>\n",
       "      <td>199000</td>\n",
       "    </tr>\n",
       "    <tr>\n",
       "      <th>5</th>\n",
       "      <td>472.44</td>\n",
       "      <td>219000</td>\n",
       "    </tr>\n",
       "    <tr>\n",
       "      <th>6</th>\n",
       "      <td>716.28</td>\n",
       "      <td>405000</td>\n",
       "    </tr>\n",
       "    <tr>\n",
       "      <th>7</th>\n",
       "      <td>746.76</td>\n",
       "      <td>324000</td>\n",
       "    </tr>\n",
       "    <tr>\n",
       "      <th>8</th>\n",
       "      <td>434.34</td>\n",
       "      <td>319000</td>\n",
       "    </tr>\n",
       "    <tr>\n",
       "      <th>9</th>\n",
       "      <td>518.16</td>\n",
       "      <td>255000</td>\n",
       "    </tr>\n",
       "  </tbody>\n",
       "</table>\n",
       "</div>"
      ],
      "text/plain": [
       "   Tamanho da casa em metros  Preço em dolar\n",
       "0                     426.72          245000\n",
       "1                     487.68          312000\n",
       "2                     518.16          279000\n",
       "3                     571.50          308000\n",
       "4                     335.28          199000\n",
       "5                     472.44          219000\n",
       "6                     716.28          405000\n",
       "7                     746.76          324000\n",
       "8                     434.34          319000\n",
       "9                     518.16          255000"
      ]
     },
     "execution_count": 3,
     "metadata": {},
     "output_type": "execute_result"
    }
   ],
   "source": [
    "casas"
   ]
  },
  {
   "cell_type": "markdown",
   "id": "194a76ac",
   "metadata": {},
   "source": [
    "Vamos fazer por passos. Para cada valor de x, vamos calcular (xi - xbarra)"
   ]
  },
  {
   "cell_type": "markdown",
   "id": "a3220141",
   "metadata": {},
   "source": [
    "![](img/corr-p1.png)"
   ]
  },
  {
   "cell_type": "markdown",
   "id": "33c3e77c",
   "metadata": {},
   "source": [
    "Agora vamos criar uma função, que recebe um vetor e sua média. E coloca o valor de xi - xbarra em um vetor, para cada xi."
   ]
  },
  {
   "cell_type": "code",
   "execution_count": 4,
   "id": "4c4eda41",
   "metadata": {},
   "outputs": [],
   "source": [
    "def calcSub(v):\n",
    "    media = v.mean()\n",
    "    vetor = []\n",
    "    for i in v:\n",
    "        vetor += [i - media]\n",
    "    \n",
    "    return vetor\n",
    "    "
   ]
  },
  {
   "cell_type": "code",
   "execution_count": 5,
   "id": "dab2b8c3",
   "metadata": {},
   "outputs": [
    {
     "data": {
      "text/plain": [
       "[-96.01200000000006,\n",
       " -35.05200000000008,\n",
       " -4.572000000000116,\n",
       " 48.767999999999915,\n",
       " -187.4520000000001,\n",
       " -50.29200000000009,\n",
       " 193.5479999999999,\n",
       " 224.0279999999999,\n",
       " -88.39200000000011,\n",
       " -4.572000000000116]"
      ]
     },
     "execution_count": 5,
     "metadata": {},
     "output_type": "execute_result"
    }
   ],
   "source": [
    "calcSub(casas['Tamanho da casa em metros'])"
   ]
  },
  {
   "cell_type": "markdown",
   "id": "ef1e1c4f",
   "metadata": {},
   "source": [
    "Agora, vamos adicionar esse vetor ao nosso dataframe."
   ]
  },
  {
   "cell_type": "code",
   "execution_count": 6,
   "id": "0cddc2ff",
   "metadata": {},
   "outputs": [],
   "source": [
    "casas['xi - xbarra'] = calcSub(casas['Tamanho da casa em metros'])"
   ]
  },
  {
   "cell_type": "code",
   "execution_count": 7,
   "id": "cbc657fe",
   "metadata": {},
   "outputs": [
    {
     "data": {
      "text/html": [
       "<div>\n",
       "<style scoped>\n",
       "    .dataframe tbody tr th:only-of-type {\n",
       "        vertical-align: middle;\n",
       "    }\n",
       "\n",
       "    .dataframe tbody tr th {\n",
       "        vertical-align: top;\n",
       "    }\n",
       "\n",
       "    .dataframe thead th {\n",
       "        text-align: right;\n",
       "    }\n",
       "</style>\n",
       "<table border=\"1\" class=\"dataframe\">\n",
       "  <thead>\n",
       "    <tr style=\"text-align: right;\">\n",
       "      <th></th>\n",
       "      <th>Tamanho da casa em metros</th>\n",
       "      <th>Preço em dolar</th>\n",
       "      <th>xi - xbarra</th>\n",
       "    </tr>\n",
       "  </thead>\n",
       "  <tbody>\n",
       "    <tr>\n",
       "      <th>0</th>\n",
       "      <td>426.72</td>\n",
       "      <td>245000</td>\n",
       "      <td>-96.012</td>\n",
       "    </tr>\n",
       "    <tr>\n",
       "      <th>1</th>\n",
       "      <td>487.68</td>\n",
       "      <td>312000</td>\n",
       "      <td>-35.052</td>\n",
       "    </tr>\n",
       "    <tr>\n",
       "      <th>2</th>\n",
       "      <td>518.16</td>\n",
       "      <td>279000</td>\n",
       "      <td>-4.572</td>\n",
       "    </tr>\n",
       "    <tr>\n",
       "      <th>3</th>\n",
       "      <td>571.50</td>\n",
       "      <td>308000</td>\n",
       "      <td>48.768</td>\n",
       "    </tr>\n",
       "    <tr>\n",
       "      <th>4</th>\n",
       "      <td>335.28</td>\n",
       "      <td>199000</td>\n",
       "      <td>-187.452</td>\n",
       "    </tr>\n",
       "    <tr>\n",
       "      <th>5</th>\n",
       "      <td>472.44</td>\n",
       "      <td>219000</td>\n",
       "      <td>-50.292</td>\n",
       "    </tr>\n",
       "    <tr>\n",
       "      <th>6</th>\n",
       "      <td>716.28</td>\n",
       "      <td>405000</td>\n",
       "      <td>193.548</td>\n",
       "    </tr>\n",
       "    <tr>\n",
       "      <th>7</th>\n",
       "      <td>746.76</td>\n",
       "      <td>324000</td>\n",
       "      <td>224.028</td>\n",
       "    </tr>\n",
       "    <tr>\n",
       "      <th>8</th>\n",
       "      <td>434.34</td>\n",
       "      <td>319000</td>\n",
       "      <td>-88.392</td>\n",
       "    </tr>\n",
       "    <tr>\n",
       "      <th>9</th>\n",
       "      <td>518.16</td>\n",
       "      <td>255000</td>\n",
       "      <td>-4.572</td>\n",
       "    </tr>\n",
       "  </tbody>\n",
       "</table>\n",
       "</div>"
      ],
      "text/plain": [
       "   Tamanho da casa em metros  Preço em dolar  xi - xbarra\n",
       "0                     426.72          245000      -96.012\n",
       "1                     487.68          312000      -35.052\n",
       "2                     518.16          279000       -4.572\n",
       "3                     571.50          308000       48.768\n",
       "4                     335.28          199000     -187.452\n",
       "5                     472.44          219000      -50.292\n",
       "6                     716.28          405000      193.548\n",
       "7                     746.76          324000      224.028\n",
       "8                     434.34          319000      -88.392\n",
       "9                     518.16          255000       -4.572"
      ]
     },
     "execution_count": 7,
     "metadata": {},
     "output_type": "execute_result"
    }
   ],
   "source": [
    "casas"
   ]
  },
  {
   "cell_type": "markdown",
   "id": "c34d3353",
   "metadata": {},
   "source": [
    "Agora vamos fazer o mesmo processo para y.\n",
    "![](img/corr-p2.png)"
   ]
  },
  {
   "cell_type": "code",
   "execution_count": 8,
   "id": "075c6d42",
   "metadata": {},
   "outputs": [
    {
     "data": {
      "text/html": [
       "<div>\n",
       "<style scoped>\n",
       "    .dataframe tbody tr th:only-of-type {\n",
       "        vertical-align: middle;\n",
       "    }\n",
       "\n",
       "    .dataframe tbody tr th {\n",
       "        vertical-align: top;\n",
       "    }\n",
       "\n",
       "    .dataframe thead th {\n",
       "        text-align: right;\n",
       "    }\n",
       "</style>\n",
       "<table border=\"1\" class=\"dataframe\">\n",
       "  <thead>\n",
       "    <tr style=\"text-align: right;\">\n",
       "      <th></th>\n",
       "      <th>Tamanho da casa em metros</th>\n",
       "      <th>Preço em dolar</th>\n",
       "      <th>xi - xbarra</th>\n",
       "      <th>yi - ybarra</th>\n",
       "    </tr>\n",
       "  </thead>\n",
       "  <tbody>\n",
       "    <tr>\n",
       "      <th>0</th>\n",
       "      <td>426.72</td>\n",
       "      <td>245000</td>\n",
       "      <td>-96.012</td>\n",
       "      <td>-41500.0</td>\n",
       "    </tr>\n",
       "    <tr>\n",
       "      <th>1</th>\n",
       "      <td>487.68</td>\n",
       "      <td>312000</td>\n",
       "      <td>-35.052</td>\n",
       "      <td>25500.0</td>\n",
       "    </tr>\n",
       "    <tr>\n",
       "      <th>2</th>\n",
       "      <td>518.16</td>\n",
       "      <td>279000</td>\n",
       "      <td>-4.572</td>\n",
       "      <td>-7500.0</td>\n",
       "    </tr>\n",
       "    <tr>\n",
       "      <th>3</th>\n",
       "      <td>571.50</td>\n",
       "      <td>308000</td>\n",
       "      <td>48.768</td>\n",
       "      <td>21500.0</td>\n",
       "    </tr>\n",
       "    <tr>\n",
       "      <th>4</th>\n",
       "      <td>335.28</td>\n",
       "      <td>199000</td>\n",
       "      <td>-187.452</td>\n",
       "      <td>-87500.0</td>\n",
       "    </tr>\n",
       "    <tr>\n",
       "      <th>5</th>\n",
       "      <td>472.44</td>\n",
       "      <td>219000</td>\n",
       "      <td>-50.292</td>\n",
       "      <td>-67500.0</td>\n",
       "    </tr>\n",
       "    <tr>\n",
       "      <th>6</th>\n",
       "      <td>716.28</td>\n",
       "      <td>405000</td>\n",
       "      <td>193.548</td>\n",
       "      <td>118500.0</td>\n",
       "    </tr>\n",
       "    <tr>\n",
       "      <th>7</th>\n",
       "      <td>746.76</td>\n",
       "      <td>324000</td>\n",
       "      <td>224.028</td>\n",
       "      <td>37500.0</td>\n",
       "    </tr>\n",
       "    <tr>\n",
       "      <th>8</th>\n",
       "      <td>434.34</td>\n",
       "      <td>319000</td>\n",
       "      <td>-88.392</td>\n",
       "      <td>32500.0</td>\n",
       "    </tr>\n",
       "    <tr>\n",
       "      <th>9</th>\n",
       "      <td>518.16</td>\n",
       "      <td>255000</td>\n",
       "      <td>-4.572</td>\n",
       "      <td>-31500.0</td>\n",
       "    </tr>\n",
       "  </tbody>\n",
       "</table>\n",
       "</div>"
      ],
      "text/plain": [
       "   Tamanho da casa em metros  Preço em dolar  xi - xbarra  yi - ybarra\n",
       "0                     426.72          245000      -96.012     -41500.0\n",
       "1                     487.68          312000      -35.052      25500.0\n",
       "2                     518.16          279000       -4.572      -7500.0\n",
       "3                     571.50          308000       48.768      21500.0\n",
       "4                     335.28          199000     -187.452     -87500.0\n",
       "5                     472.44          219000      -50.292     -67500.0\n",
       "6                     716.28          405000      193.548     118500.0\n",
       "7                     746.76          324000      224.028      37500.0\n",
       "8                     434.34          319000      -88.392      32500.0\n",
       "9                     518.16          255000       -4.572     -31500.0"
      ]
     },
     "execution_count": 8,
     "metadata": {},
     "output_type": "execute_result"
    }
   ],
   "source": [
    "casas['yi - ybarra'] = calcSub(casas['Preço em dolar'])\n",
    "casas"
   ]
  },
  {
   "cell_type": "markdown",
   "id": "71621c80",
   "metadata": {},
   "source": [
    "Estamos terminando de calcular o numerador da fórmula, calminha!\n",
    "![](img/corr-p3.png)"
   ]
  },
  {
   "cell_type": "markdown",
   "id": "5cb177fa",
   "metadata": {},
   "source": [
    "Vamos criar uma função que faça essa multiplicação por nós e já retorne o vetor desses valores."
   ]
  },
  {
   "cell_type": "code",
   "execution_count": 9,
   "id": "4b35969f",
   "metadata": {},
   "outputs": [
    {
     "data": {
      "text/plain": [
       "array([0, 1, 2, 3, 4, 5, 6, 7, 8, 9])"
      ]
     },
     "execution_count": 9,
     "metadata": {},
     "output_type": "execute_result"
    }
   ],
   "source": [
    "arr = np.arange(0, len(casas['yi - ybarra']))\n",
    "arr"
   ]
  },
  {
   "cell_type": "code",
   "execution_count": 10,
   "id": "5d937856",
   "metadata": {},
   "outputs": [],
   "source": [
    "def calcMult(v1, v2):\n",
    "    v = []\n",
    "    for i in arr:\n",
    "        v += [v1[i]*v2[i]]\n",
    "    return v"
   ]
  },
  {
   "cell_type": "code",
   "execution_count": 11,
   "id": "362ffad8",
   "metadata": {},
   "outputs": [
    {
     "data": {
      "text/plain": [
       "[3984498.0000000023,\n",
       " -893826.000000002,\n",
       " 34290.00000000087,\n",
       " 1048511.9999999981,\n",
       " 16402050.00000001,\n",
       " 3394710.000000006,\n",
       " 22935437.999999985,\n",
       " 8401049.999999996,\n",
       " -2872740.0000000037,\n",
       " 144018.00000000367]"
      ]
     },
     "execution_count": 11,
     "metadata": {},
     "output_type": "execute_result"
    }
   ],
   "source": [
    "calcMult(casas['xi - xbarra'], casas['yi - ybarra'])"
   ]
  },
  {
   "cell_type": "code",
   "execution_count": 12,
   "id": "30dd6bd6",
   "metadata": {},
   "outputs": [
    {
     "data": {
      "text/html": [
       "<div>\n",
       "<style scoped>\n",
       "    .dataframe tbody tr th:only-of-type {\n",
       "        vertical-align: middle;\n",
       "    }\n",
       "\n",
       "    .dataframe tbody tr th {\n",
       "        vertical-align: top;\n",
       "    }\n",
       "\n",
       "    .dataframe thead th {\n",
       "        text-align: right;\n",
       "    }\n",
       "</style>\n",
       "<table border=\"1\" class=\"dataframe\">\n",
       "  <thead>\n",
       "    <tr style=\"text-align: right;\">\n",
       "      <th></th>\n",
       "      <th>Tamanho da casa em metros</th>\n",
       "      <th>Preço em dolar</th>\n",
       "      <th>xi - xbarra</th>\n",
       "      <th>yi - ybarra</th>\n",
       "      <th>(xi - xbarra)*(yi - ybarra)</th>\n",
       "    </tr>\n",
       "  </thead>\n",
       "  <tbody>\n",
       "    <tr>\n",
       "      <th>0</th>\n",
       "      <td>426.72</td>\n",
       "      <td>245000</td>\n",
       "      <td>-96.012</td>\n",
       "      <td>-41500.0</td>\n",
       "      <td>3984498.0</td>\n",
       "    </tr>\n",
       "    <tr>\n",
       "      <th>1</th>\n",
       "      <td>487.68</td>\n",
       "      <td>312000</td>\n",
       "      <td>-35.052</td>\n",
       "      <td>25500.0</td>\n",
       "      <td>-893826.0</td>\n",
       "    </tr>\n",
       "    <tr>\n",
       "      <th>2</th>\n",
       "      <td>518.16</td>\n",
       "      <td>279000</td>\n",
       "      <td>-4.572</td>\n",
       "      <td>-7500.0</td>\n",
       "      <td>34290.0</td>\n",
       "    </tr>\n",
       "    <tr>\n",
       "      <th>3</th>\n",
       "      <td>571.50</td>\n",
       "      <td>308000</td>\n",
       "      <td>48.768</td>\n",
       "      <td>21500.0</td>\n",
       "      <td>1048512.0</td>\n",
       "    </tr>\n",
       "    <tr>\n",
       "      <th>4</th>\n",
       "      <td>335.28</td>\n",
       "      <td>199000</td>\n",
       "      <td>-187.452</td>\n",
       "      <td>-87500.0</td>\n",
       "      <td>16402050.0</td>\n",
       "    </tr>\n",
       "    <tr>\n",
       "      <th>5</th>\n",
       "      <td>472.44</td>\n",
       "      <td>219000</td>\n",
       "      <td>-50.292</td>\n",
       "      <td>-67500.0</td>\n",
       "      <td>3394710.0</td>\n",
       "    </tr>\n",
       "    <tr>\n",
       "      <th>6</th>\n",
       "      <td>716.28</td>\n",
       "      <td>405000</td>\n",
       "      <td>193.548</td>\n",
       "      <td>118500.0</td>\n",
       "      <td>22935438.0</td>\n",
       "    </tr>\n",
       "    <tr>\n",
       "      <th>7</th>\n",
       "      <td>746.76</td>\n",
       "      <td>324000</td>\n",
       "      <td>224.028</td>\n",
       "      <td>37500.0</td>\n",
       "      <td>8401050.0</td>\n",
       "    </tr>\n",
       "    <tr>\n",
       "      <th>8</th>\n",
       "      <td>434.34</td>\n",
       "      <td>319000</td>\n",
       "      <td>-88.392</td>\n",
       "      <td>32500.0</td>\n",
       "      <td>-2872740.0</td>\n",
       "    </tr>\n",
       "    <tr>\n",
       "      <th>9</th>\n",
       "      <td>518.16</td>\n",
       "      <td>255000</td>\n",
       "      <td>-4.572</td>\n",
       "      <td>-31500.0</td>\n",
       "      <td>144018.0</td>\n",
       "    </tr>\n",
       "  </tbody>\n",
       "</table>\n",
       "</div>"
      ],
      "text/plain": [
       "   Tamanho da casa em metros  Preço em dolar  xi - xbarra  yi - ybarra  \\\n",
       "0                     426.72          245000      -96.012     -41500.0   \n",
       "1                     487.68          312000      -35.052      25500.0   \n",
       "2                     518.16          279000       -4.572      -7500.0   \n",
       "3                     571.50          308000       48.768      21500.0   \n",
       "4                     335.28          199000     -187.452     -87500.0   \n",
       "5                     472.44          219000      -50.292     -67500.0   \n",
       "6                     716.28          405000      193.548     118500.0   \n",
       "7                     746.76          324000      224.028      37500.0   \n",
       "8                     434.34          319000      -88.392      32500.0   \n",
       "9                     518.16          255000       -4.572     -31500.0   \n",
       "\n",
       "   (xi - xbarra)*(yi - ybarra)  \n",
       "0                    3984498.0  \n",
       "1                    -893826.0  \n",
       "2                      34290.0  \n",
       "3                    1048512.0  \n",
       "4                   16402050.0  \n",
       "5                    3394710.0  \n",
       "6                   22935438.0  \n",
       "7                    8401050.0  \n",
       "8                   -2872740.0  \n",
       "9                     144018.0  "
      ]
     },
     "execution_count": 12,
     "metadata": {},
     "output_type": "execute_result"
    }
   ],
   "source": [
    "casas['(xi - xbarra)*(yi - ybarra)'] = calcMult(casas['xi - xbarra'], casas['yi - ybarra'])\n",
    "casas"
   ]
  },
  {
   "cell_type": "markdown",
   "id": "fe90851f",
   "metadata": {},
   "source": [
    "Agora, vamos fazer a função de somatório sobre casas[\\'(xi - xbarra)\\*(yi - ybarra)\\'] para obter, a seguinte parte da equação:\n",
    "![](img/corr-p4.png)"
   ]
  },
  {
   "cell_type": "code",
   "execution_count": 13,
   "id": "21dcba63",
   "metadata": {},
   "outputs": [],
   "source": [
    "def somatorio(v):\n",
    "    soma = 0\n",
    "    q = np.arange(0, len(v))\n",
    "    for i in q:\n",
    "        soma += v[i]\n",
    "    return soma"
   ]
  },
  {
   "cell_type": "markdown",
   "id": "e373b2ad",
   "metadata": {},
   "source": [
    "A nível de simplicidade, vamos fazer uma calcSub2 para calcular (xi - xbarra)^2 e (yi - ybarra)^2"
   ]
  },
  {
   "cell_type": "code",
   "execution_count": 14,
   "id": "7ed64d6b",
   "metadata": {},
   "outputs": [],
   "source": [
    "def calcSub2(v):\n",
    "    media = v.mean()\n",
    "    vetor = []\n",
    "    for i in v:\n",
    "        vetor += [pow(i - media, 2)]\n",
    "    \n",
    "    return vetor"
   ]
  },
  {
   "cell_type": "markdown",
   "id": "9b046a5b",
   "metadata": {},
   "source": [
    "Agora, já podemos criar nossa função completa de correlação"
   ]
  },
  {
   "cell_type": "code",
   "execution_count": 15,
   "id": "1aa4ef68",
   "metadata": {},
   "outputs": [],
   "source": [
    "#calcSub -> faz a subtracao de um valor x - a média da sua lista.\n",
    "#calcMult -> Recebe dois vetores e em cada posição, retorna a multiplicação entre v1[i] e v2[i].\n",
    "#somatoria -> realiza a soma todos os elementos de uma lista.\n",
    "def correlacao(v1, v2):\n",
    "    numerador = somatorio(calcMult(calcSub(v1), (calcSub(v2))))\n",
    "    denominador1 = somatorio(calcSub2(v1))\n",
    "    denominador2 = somatorio(calcSub2(v2))\n",
    "    raiz = math.sqrt(denominador1 * denominador2)\n",
    "    \n",
    "    return (numerador/raiz)\n"
   ]
  },
  {
   "cell_type": "code",
   "execution_count": 16,
   "id": "0ca72806",
   "metadata": {},
   "outputs": [
    {
     "data": {
      "text/plain": [
       "0.7621137132162579"
      ]
     },
     "execution_count": 16,
     "metadata": {},
     "output_type": "execute_result"
    }
   ],
   "source": [
    "correlacao(casas['Tamanho da casa em metros'], casas['Preço em dolar'])"
   ]
  },
  {
   "cell_type": "markdown",
   "id": "325c8283",
   "metadata": {},
   "source": [
    "Agora que entendemos como funciona a correlação e como podemos criar sua função. Vamos as bibliotecas que disponibilizam a função de correlação."
   ]
  },
  {
   "cell_type": "markdown",
   "id": "cba3e9eb",
   "metadata": {},
   "source": [
    "## 3. Funções prontas de correlação e visualização"
   ]
  },
  {
   "cell_type": "code",
   "execution_count": 17,
   "id": "9505aa84",
   "metadata": {},
   "outputs": [],
   "source": [
    "matriz_corr = casas.iloc[:,:2].corr(method='pearson')"
   ]
  },
  {
   "cell_type": "code",
   "execution_count": 18,
   "id": "c5033660",
   "metadata": {},
   "outputs": [
    {
     "data": {
      "text/html": [
       "<div>\n",
       "<style scoped>\n",
       "    .dataframe tbody tr th:only-of-type {\n",
       "        vertical-align: middle;\n",
       "    }\n",
       "\n",
       "    .dataframe tbody tr th {\n",
       "        vertical-align: top;\n",
       "    }\n",
       "\n",
       "    .dataframe thead th {\n",
       "        text-align: right;\n",
       "    }\n",
       "</style>\n",
       "<table border=\"1\" class=\"dataframe\">\n",
       "  <thead>\n",
       "    <tr style=\"text-align: right;\">\n",
       "      <th></th>\n",
       "      <th>Tamanho da casa em metros</th>\n",
       "      <th>Preço em dolar</th>\n",
       "    </tr>\n",
       "  </thead>\n",
       "  <tbody>\n",
       "    <tr>\n",
       "      <th>Tamanho da casa em metros</th>\n",
       "      <td>1.000000</td>\n",
       "      <td>0.762114</td>\n",
       "    </tr>\n",
       "    <tr>\n",
       "      <th>Preço em dolar</th>\n",
       "      <td>0.762114</td>\n",
       "      <td>1.000000</td>\n",
       "    </tr>\n",
       "  </tbody>\n",
       "</table>\n",
       "</div>"
      ],
      "text/plain": [
       "                           Tamanho da casa em metros  Preço em dolar\n",
       "Tamanho da casa em metros                   1.000000        0.762114\n",
       "Preço em dolar                              0.762114        1.000000"
      ]
     },
     "execution_count": 18,
     "metadata": {},
     "output_type": "execute_result"
    }
   ],
   "source": [
    "matriz_corr"
   ]
  },
  {
   "cell_type": "code",
   "execution_count": 19,
   "id": "ca59f252",
   "metadata": {},
   "outputs": [
    {
     "data": {
      "image/png": "[encoded data removed]",
      "text/plain": [
       "<Figure size 288x288 with 1 Axes>"
      ]
     },
     "metadata": {
      "needs_background": "light"
     },
     "output_type": "display_data"
    }
   ],
   "source": [
    "plt.matshow(matriz_corr)\n",
    "plt.show()"
   ]
  },
  {
   "cell_type": "code",
   "execution_count": 20,
   "id": "b1bf0d99",
   "metadata": {},
   "outputs": [
    {
     "data": {
      "image/png": "[encoded data removed]",
      "text/plain": [
       "<Figure size 576x432 with 2 Axes>"
      ]
     },
     "metadata": {
      "needs_background": "light"
     },
     "output_type": "display_data"
    }
   ],
   "source": [
    "plt.figure(figsize=(8, 6))\n",
    "sns.heatmap(matriz_corr, annot=True)\n",
    "plt.show()"
   ]
  },
  {
   "cell_type": "code",
   "execution_count": 21,
   "id": "d6de56b4",
   "metadata": {},
   "outputs": [
    {
     "data": {
      "text/html": [
       "<style  type=\"text/css\" >\n",
       "#T_4eb0c_row0_col0,#T_4eb0c_row1_col1{\n",
       "            background-color:  #b40426;\n",
       "            color:  #f1f1f1;\n",
       "        }#T_4eb0c_row0_col1,#T_4eb0c_row1_col0{\n",
       "            background-color:  #3b4cc0;\n",
       "            color:  #f1f1f1;\n",
       "        }</style><table id=\"T_4eb0c_\" ><thead>    <tr>        <th class=\"blank level0\" ></th>        <th class=\"col_heading level0 col0\" >Tamanho da casa em metros</th>        <th class=\"col_heading level0 col1\" >Preço em dolar</th>    </tr></thead><tbody>\n",
       "                <tr>\n",
       "                        <th id=\"T_4eb0c_level0_row0\" class=\"row_heading level0 row0\" >Tamanho da casa em metros</th>\n",
       "                        <td id=\"T_4eb0c_row0_col0\" class=\"data row0 col0\" >1.000000</td>\n",
       "                        <td id=\"T_4eb0c_row0_col1\" class=\"data row0 col1\" >0.762114</td>\n",
       "            </tr>\n",
       "            <tr>\n",
       "                        <th id=\"T_4eb0c_level0_row1\" class=\"row_heading level0 row1\" >Preço em dolar</th>\n",
       "                        <td id=\"T_4eb0c_row1_col0\" class=\"data row1 col0\" >0.762114</td>\n",
       "                        <td id=\"T_4eb0c_row1_col1\" class=\"data row1 col1\" >1.000000</td>\n",
       "            </tr>\n",
       "    </tbody></table>"
      ],
      "text/plain": [
       "<pandas.io.formats.style.Styler at 0x7fe96caff130>"
      ]
     },
     "execution_count": 21,
     "metadata": {},
     "output_type": "execute_result"
    }
   ],
   "source": [
    "matriz_corr.style.background_gradient(cmap='coolwarm')"
   ]
  },
  {
   "cell_type": "markdown",
   "id": "fb604de1",
   "metadata": {},
   "source": [
    "## 6. Referências\n",
    "[Cálculo do Coeficiente de Correlação Linear pela Fórmula - Correlação e Regressão](https://www.youtube.com/watch?v=Pmmjb78j_Rg&t=236s)<br>\n",
    "[COEFICIENTE DE CORRELAÇÃO LINEAR](https://www.youtube.com/watch?v=ayAxTRN4aVg&t=106s)<br>\n",
    "[Problema de prever preço de casas usando o algoritmo de Regressão Linear](https://github.com/ciencia-de-dados-pratica/praticas/blob/master/Regress%C3%A3o%20Pre%C3%A7o%20de%20Casas.ipynb)<br>\n",
    "[Matriz de Correlação Pandas](https://www.delftstack.com/pt/howto/python-pandas/pandas-correlation-matrix/#visualizar-a-matriz-de-correla%25C3%25A7%25C3%25A3o-pandas-utilizando-o-m%25C3%25A9todo-matplotlib.pyplot.matshow)"
   ]
  },
  {
   "cell_type": "markdown",
   "id": "3874aa95",
   "metadata": {},
   "source": [
    "#### Para acessar o material em vídeo no Youtube:\n",
    "[Correlação linear](https://youtu.be/ALZr-_5AUpQ)"
   ]
  }
 ],
 "metadata": {
  "kernelspec": {
   "display_name": "Python (myenv)",
   "language": "python",
   "name": "myenv"
  },
  "language_info": {
   "codemirror_mode": {
    "name": "ipython",
    "version": 3
   },
   "file_extension": ".py",
   "mimetype": "text/x-python",
   "name": "python",
   "nbconvert_exporter": "python",
   "pygments_lexer": "ipython3",
   "version": "3.9.1"
  }
 },
 "nbformat": 4,
 "nbformat_minor": 5
}
