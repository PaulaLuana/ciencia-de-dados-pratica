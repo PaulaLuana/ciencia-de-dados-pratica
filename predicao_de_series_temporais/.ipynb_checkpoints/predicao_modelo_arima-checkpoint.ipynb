{
 "cells": [
  {
   "cell_type": "markdown",
   "id": "59e7c3b2",
   "metadata": {
    "id": "59e7c3b2"
   },
   "source": [
    "Data da publicação: 17/08/2021<br>\n",
    "Tutorial escrito por Paula Luana Oliveira da Silva, graduanda em Ciência da Computação pela Universidade Federal do Ceará."
   ]
  },
  {
   "cell_type": "markdown",
   "id": "8c250058",
   "metadata": {
    "id": "8c250058"
   },
   "source": [
    "# Predição usando o modelo ARIMA\n",
    "Média Móvel Integrada Autoregressiva (ARIMA)\n",
    "\n",
    "O modelo ARIMA(AutoRegressive Integrated Moving Average model) utiliza métodos de diferenciação para tornar a série temporal em estacionária(as propriedades estatísticas são constantes), aplica modelos de autoregressão e média móvel. Ou seja, o modelo que é estacionário, sua média, variância e autocovariância são invariáveis em relação ao tempo. **O método é adequado para séries temporais univariadas com tendência e sem componentes sazonais.**\n",
    "\n",
    "O uso da técnica de Walk Forward amplia o uso da validação cruzada, permitindo avaliar um modelo com menor interferência de ruídos e de padrões que ocorreram somente em um determinado período. Se você não conhece a técnica de Walk Forward, realize uma pesquisa ou busque um vídeo rápido, pois nesse tutorial não vamos nos aprofundar nesse assunto.\n",
    "\n",
    "**Parâmetros**<br>\n",
    "Na função ARIMA do python, passamos três parâmetros, sendo eles: <br>\n",
    "p: é a ordem do modelo autoregressivo; Mais especificamente é quantidade de lags(quantidade de valores correlacionados)<br>\n",
    "d: o número de vezes que as observações serão diferenciadas.<br>\n",
    "q: é a ordem do modelo de média móvel.\n",
    "\n",
    "No R há uma função que encontra esses parâmetros para gente. Mas já em python podemos encontrar esses valores através de tentativas na mão até encontrar um melhor valor(o que é muito custoso) ou observando o gráfico de Autocorrelação e o de Autocorrelação Parcial. Nesse tutorial, vamos observar os gráficos.\n",
    "\n",
    "## Mãos na massa"
   ]
  },
  {
   "cell_type": "code",
   "execution_count": 2,
   "id": "4d528b8e",
   "metadata": {
    "colab": {
     "base_uri": "https://localhost:8080/"
    },
    "id": "4d528b8e",
    "outputId": "a05166fb-e107-471e-ba50-a38000f90802"
   },
   "outputs": [
    {
     "name": "stderr",
     "output_type": "stream",
     "text": [
      "/usr/local/lib/python3.7/dist-packages/statsmodels/tools/_testing.py:19: FutureWarning: pandas.util.testing is deprecated. Use the functions in the public API at pandas.testing instead.\n",
      "  import pandas.util.testing as tm\n"
     ]
    }
   ],
   "source": [
    "import pandas as pd\n",
    "import matplotlib.pyplot as plt\n",
    "import numpy as np\n",
    "from statsmodels.tsa.seasonal import seasonal_decompose\n",
    "from statsmodels.tsa.stattools import adfuller\n",
    "from statsmodels.tsa.arima_model import ARIMA\n",
    "import random\n",
    "from sklearn.metrics import mean_absolute_error as mae\n",
    "\n",
    "import warnings\n",
    "warnings.filterwarnings(\"ignore\")\n",
    "%matplotlib inline"
   ]
  },
  {
   "cell_type": "markdown",
   "id": "94b4180b",
   "metadata": {
    "id": "94b4180b"
   },
   "source": [
    "### Conhecendo os dados e aplicando pré processamento\n",
    "Os nossos dados são a quantidade de vacinas aplicadas em uma determinada data no Brasil."
   ]
  },
  {
   "cell_type": "code",
   "execution_count": 3,
   "id": "398ceab5",
   "metadata": {
    "colab": {
     "base_uri": "https://localhost:8080/",
     "height": 204
    },
    "id": "398ceab5",
    "outputId": "5c3763cc-4dbe-4a0b-c52a-341c157961fd"
   },
   "outputs": [
    {
     "data": {
      "text/html": [
       "<div>\n",
       "<style scoped>\n",
       "    .dataframe tbody tr th:only-of-type {\n",
       "        vertical-align: middle;\n",
       "    }\n",
       "\n",
       "    .dataframe tbody tr th {\n",
       "        vertical-align: top;\n",
       "    }\n",
       "\n",
       "    .dataframe thead th {\n",
       "        text-align: right;\n",
       "    }\n",
       "</style>\n",
       "<table border=\"1\" class=\"dataframe\">\n",
       "  <thead>\n",
       "    <tr style=\"text-align: right;\">\n",
       "      <th></th>\n",
       "      <th>date</th>\n",
       "      <th>daily_vaccinations</th>\n",
       "    </tr>\n",
       "  </thead>\n",
       "  <tbody>\n",
       "    <tr>\n",
       "      <th>0</th>\n",
       "      <td>2021-01-17</td>\n",
       "      <td>112</td>\n",
       "    </tr>\n",
       "    <tr>\n",
       "      <th>1</th>\n",
       "      <td>2021-01-18</td>\n",
       "      <td>554</td>\n",
       "    </tr>\n",
       "    <tr>\n",
       "      <th>2</th>\n",
       "      <td>2021-01-19</td>\n",
       "      <td>3823</td>\n",
       "    </tr>\n",
       "    <tr>\n",
       "      <th>3</th>\n",
       "      <td>2021-01-20</td>\n",
       "      <td>7136</td>\n",
       "    </tr>\n",
       "    <tr>\n",
       "      <th>4</th>\n",
       "      <td>2021-01-21</td>\n",
       "      <td>27304</td>\n",
       "    </tr>\n",
       "  </tbody>\n",
       "</table>\n",
       "</div>"
      ],
      "text/plain": [
       "         date  daily_vaccinations\n",
       "0  2021-01-17                 112\n",
       "1  2021-01-18                 554\n",
       "2  2021-01-19                3823\n",
       "3  2021-01-20                7136\n",
       "4  2021-01-21               27304"
      ]
     },
     "execution_count": 3,
     "metadata": {},
     "output_type": "execute_result"
    }
   ],
   "source": [
    "df = pd.read_csv('df.csv')\n",
    "df.head()"
   ]
  },
  {
   "cell_type": "code",
   "execution_count": 4,
   "id": "ab0b69be",
   "metadata": {
    "colab": {
     "base_uri": "https://localhost:8080/"
    },
    "id": "ab0b69be",
    "outputId": "5e3dc712-f350-4c6c-f5f0-86cb9e05a664"
   },
   "outputs": [
    {
     "data": {
      "text/plain": [
       "date                  object\n",
       "daily_vaccinations     int64\n",
       "dtype: object"
      ]
     },
     "execution_count": 4,
     "metadata": {},
     "output_type": "execute_result"
    }
   ],
   "source": [
    "df.dtypes"
   ]
  },
  {
   "cell_type": "markdown",
   "id": "7270ce8e",
   "metadata": {
    "id": "7270ce8e"
   },
   "source": [
    "Para realizar a predição, é importante que a data seja do tipo date."
   ]
  },
  {
   "cell_type": "code",
   "execution_count": 5,
   "id": "08f5a7da",
   "metadata": {
    "colab": {
     "base_uri": "https://localhost:8080/"
    },
    "id": "08f5a7da",
    "outputId": "2962ae79-bc33-4f1b-de4e-564ad94e3834"
   },
   "outputs": [
    {
     "data": {
      "text/plain": [
       "date                  datetime64[ns]\n",
       "daily_vaccinations             int64\n",
       "dtype: object"
      ]
     },
     "execution_count": 5,
     "metadata": {},
     "output_type": "execute_result"
    }
   ],
   "source": [
    "df.date = pd.to_datetime(df.date)\n",
    "df.dtypes"
   ]
  },
  {
   "cell_type": "markdown",
   "id": "fe527d91",
   "metadata": {
    "id": "fe527d91"
   },
   "source": [
    "Vamos colocar nossa data como o índice dos nossos dados."
   ]
  },
  {
   "cell_type": "code",
   "execution_count": 6,
   "id": "0923c7c7",
   "metadata": {
    "colab": {
     "base_uri": "https://localhost:8080/",
     "height": 450
    },
    "id": "0923c7c7",
    "outputId": "0e32e35e-d697-4251-8dde-0179d31c4f3d"
   },
   "outputs": [
    {
     "data": {
      "text/html": [
       "<div>\n",
       "<style scoped>\n",
       "    .dataframe tbody tr th:only-of-type {\n",
       "        vertical-align: middle;\n",
       "    }\n",
       "\n",
       "    .dataframe tbody tr th {\n",
       "        vertical-align: top;\n",
       "    }\n",
       "\n",
       "    .dataframe thead th {\n",
       "        text-align: right;\n",
       "    }\n",
       "</style>\n",
       "<table border=\"1\" class=\"dataframe\">\n",
       "  <thead>\n",
       "    <tr style=\"text-align: right;\">\n",
       "      <th></th>\n",
       "      <th>daily_vaccinations</th>\n",
       "    </tr>\n",
       "    <tr>\n",
       "      <th>date</th>\n",
       "      <th></th>\n",
       "    </tr>\n",
       "  </thead>\n",
       "  <tbody>\n",
       "    <tr>\n",
       "      <th>2021-01-17</th>\n",
       "      <td>112</td>\n",
       "    </tr>\n",
       "    <tr>\n",
       "      <th>2021-01-18</th>\n",
       "      <td>554</td>\n",
       "    </tr>\n",
       "    <tr>\n",
       "      <th>2021-01-19</th>\n",
       "      <td>3823</td>\n",
       "    </tr>\n",
       "    <tr>\n",
       "      <th>2021-01-20</th>\n",
       "      <td>7136</td>\n",
       "    </tr>\n",
       "    <tr>\n",
       "      <th>2021-01-21</th>\n",
       "      <td>27304</td>\n",
       "    </tr>\n",
       "    <tr>\n",
       "      <th>...</th>\n",
       "      <td>...</td>\n",
       "    </tr>\n",
       "    <tr>\n",
       "      <th>2021-07-08</th>\n",
       "      <td>1242514</td>\n",
       "    </tr>\n",
       "    <tr>\n",
       "      <th>2021-07-09</th>\n",
       "      <td>1307672</td>\n",
       "    </tr>\n",
       "    <tr>\n",
       "      <th>2021-07-11</th>\n",
       "      <td>1307796</td>\n",
       "    </tr>\n",
       "    <tr>\n",
       "      <th>2021-07-12</th>\n",
       "      <td>1274707</td>\n",
       "    </tr>\n",
       "    <tr>\n",
       "      <th>2021-07-13</th>\n",
       "      <td>1339579</td>\n",
       "    </tr>\n",
       "  </tbody>\n",
       "</table>\n",
       "<p>154 rows × 1 columns</p>\n",
       "</div>"
      ],
      "text/plain": [
       "            daily_vaccinations\n",
       "date                          \n",
       "2021-01-17                 112\n",
       "2021-01-18                 554\n",
       "2021-01-19                3823\n",
       "2021-01-20                7136\n",
       "2021-01-21               27304\n",
       "...                        ...\n",
       "2021-07-08             1242514\n",
       "2021-07-09             1307672\n",
       "2021-07-11             1307796\n",
       "2021-07-12             1274707\n",
       "2021-07-13             1339579\n",
       "\n",
       "[154 rows x 1 columns]"
      ]
     },
     "execution_count": 6,
     "metadata": {},
     "output_type": "execute_result"
    }
   ],
   "source": [
    "df.set_index('date',inplace=True)\n",
    "df.index = pd.DatetimeIndex(df.index).to_period('D')\n",
    "df"
   ]
  },
  {
   "cell_type": "markdown",
   "id": "84bde69e",
   "metadata": {
    "id": "84bde69e"
   },
   "source": [
    "### Já podemos aplicar a predição?\n",
    "Acima, mencionamos que o método é adequado para séries temporais univariadas com tendência e sem componentes sazonais. Por isso, vamos realizar a decomposição da série para avaliar se o modelo é ideal para nossa série."
   ]
  },
  {
   "cell_type": "code",
   "execution_count": 7,
   "id": "77557663",
   "metadata": {
    "colab": {
     "base_uri": "https://localhost:8080/",
     "height": 297
    },
    "id": "77557663",
    "outputId": "713350ae-42d0-48d8-dfa7-352fa3234ddf"
   },
   "outputs": [
    {
     "data": {
      "image/png": "[encoded data removed]",
      "text/plain": [
       "<Figure size 432x288 with 4 Axes>"
      ]
     },
     "metadata": {
      "needs_background": "light"
     },
     "output_type": "display_data"
    }
   ],
   "source": [
    "decompose = seasonal_decompose(df, freq = 1)\n",
    "\n",
    "decompose.plot();"
   ]
  },
  {
   "cell_type": "markdown",
   "id": "Myp5lX-RhoGy",
   "metadata": {
    "id": "Myp5lX-RhoGy"
   },
   "source": [
    "A decomposição da série mostra que temos tendência e não temos sazonalidade, portanto, o ARIMA é aplicável."
   ]
  },
  {
   "cell_type": "markdown",
   "id": "2483cb96",
   "metadata": {
    "id": "2483cb96"
   },
   "source": [
    "**Nossa série é estacionária?** <br>\n",
    "É importante que a série seja estacionária a fim de que possamos realizar predições de forma mais fácil e que nosso modelo tenha mais chance de acertar. O ARIMA já aplica o método de diferenciação para tornar a série estacionária, mas nem sempre um determinado método é suficiente para tornar a série estacionária.\n",
    "\n",
    "Agora vamos ver se nossa série é estacionária, usando a função que criamos no [tutorial](https://github.com/ciencia-de-dados-pratica/GEAM-basico/blob/master/2021/paula-transformando-series-temporais-em-estacionaria/time_series.ipynb) passado. Caso você não entenda sobre estacionaridade, no tutorial de preparação de séries temporais, explicamos a definição de estacionaridade, como identificar se uma série é estacionária e as condições que indicam que uma séries estacionária usando o teste de Dickey-Fuller. "
   ]
  },
  {
   "cell_type": "code",
   "execution_count": 8,
   "id": "f7b29a06",
   "metadata": {
    "id": "f7b29a06"
   },
   "outputs": [],
   "source": [
    "def ehEstacionaria(timeseries):\n",
    "    dftest = adfuller(timeseries, autolag='AIC')\n",
    "    dfoutput = pd.Series(dftest[0:4], index=['Estatística do teste','p-value','O critério de informação maximizado ','Número de observações usadas'])\n",
    "    for key,value in dftest[4].items():\n",
    "        dfoutput['Valor crítico (%s)'%key] = value\n",
    "    \n",
    "    if(dfoutput['Estatística do teste'] < dfoutput['Valor crítico (5%)'] and dfoutput['p-value'] < 0.05):\n",
    "        print('É estacionária.')\n",
    "    else:\n",
    "        print('Não é estacionária.')"
   ]
  },
  {
   "cell_type": "code",
   "execution_count": 9,
   "id": "d3af2ecf",
   "metadata": {
    "colab": {
     "base_uri": "https://localhost:8080/"
    },
    "id": "d3af2ecf",
    "outputId": "54159ac2-ff5e-412d-9521-d2a9ae09413a"
   },
   "outputs": [
    {
     "name": "stdout",
     "output_type": "stream",
     "text": [
      "Não é estacionária.\n"
     ]
    }
   ],
   "source": [
    "ehEstacionaria(df.daily_vaccinations)"
   ]
  },
  {
   "cell_type": "markdown",
   "id": "BILVYCKriL22",
   "metadata": {
    "id": "BILVYCKriL22"
   },
   "source": [
    "**Definindo parâmetros**<br>\n",
    "Agora, vamos observar os grafições de autocorrelação e autocorrelação parcial para podermos definir os parâmetros do modelo.\n",
    "\n",
    "\n",
    "**Quantidade de termos em p**<br>\n",
    "[Ambos os gráficos terão o primeiro pirulito com valor 1. Para saber o quanto de termos AR irá precisar, olhe para o gráfico de ACF e veja se o segundo lollipop caiu exponencialmente. Se caiu, olhe para o gŕafico de PACF (parte inferior da imagem acima) e conte quantos pirulitos passam o valor crítico (faixa azulada horizontal) antes de retornarem para dentro da faixa.](https://medium.com/techbloghotmart/dicas-para-criar-um-modelo-de-previs%C3%A3o-de-s%C3%A9ries-temporais-d4bb2e32e148)\n",
    "\n",
    "**d**: O d indica se queremos aplicar a diferenciação ou não. Para casos em que queremos aplicar, o valor é 1, caso contrário é 0.\n",
    "\n",
    "**Quantidade de termos em q**<br>\n",
    "[Um processo muito semelhante é feito para saber a quantidade de termos q. Olhe para o gráfico de PACF e veja se o segundo lollipop caiu exponencialmente. Se caiu, olhe para o gŕafico de ACF (parte inferior da imagem acima) e conte quantos pirulitos passam o valor crítico (faixa azulada horizontal) antes de retornarem para dentro da faixa.](https://medium.com/techbloghotmart/dicas-para-criar-um-modelo-de-previs%C3%A3o-de-s%C3%A9ries-temporais-d4bb2e32e148)"
   ]
  },
  {
   "cell_type": "code",
   "execution_count": 10,
   "id": "028991fd",
   "metadata": {
    "id": "028991fd"
   },
   "outputs": [],
   "source": [
    "import pandas.util.testing as tm\n",
    "from statsmodels.graphics.tsaplots import plot_acf\n",
    "from statsmodels.graphics.tsaplots import plot_pacf\n",
    "from matplotlib import pyplot"
   ]
  },
  {
   "cell_type": "code",
   "execution_count": 11,
   "id": "164ba569",
   "metadata": {
    "colab": {
     "base_uri": "https://localhost:8080/",
     "height": 281
    },
    "id": "164ba569",
    "outputId": "3513a8ae-86fc-47b3-9cd6-c50afa92b7d5"
   },
   "outputs": [
    {
     "data": {
      "image/png": "[encoded data removed]",
      "text/plain": [
       "<Figure size 432x288 with 1 Axes>"
      ]
     },
     "metadata": {
      "needs_background": "light"
     },
     "output_type": "display_data"
    }
   ],
   "source": [
    "plot_acf(df, lags=60)\n",
    "pyplot.show()"
   ]
  },
  {
   "cell_type": "code",
   "execution_count": 12,
   "id": "RKodWBUAjvDA",
   "metadata": {
    "colab": {
     "base_uri": "https://localhost:8080/",
     "height": 281
    },
    "id": "RKodWBUAjvDA",
    "outputId": "7055105c-9fa7-471d-920e-e154ea5ceca6"
   },
   "outputs": [
    {
     "data": {
      "image/png": "[encoded data removed]",
      "text/plain": [
       "<Figure size 432x288 with 1 Axes>"
      ]
     },
     "metadata": {
      "needs_background": "light"
     },
     "output_type": "display_data"
    }
   ],
   "source": [
    "plot_pacf(df, lags=60)\n",
    "pyplot.show()"
   ]
  },
  {
   "cell_type": "markdown",
   "id": "Y6if-brSk0HB",
   "metadata": {
    "id": "Y6if-brSk0HB"
   },
   "source": [
    "Com a análise dos gráficos de pirulito e sabendo que nossa série não é estacionária. Nosso modelo terá p,d e q iguais a 1.\n",
    "\n",
    "### Aplicando o modelo\n",
    "Inicialmente, escolheremos quais serão nossos dados de treino e teste. Vamos treinar com 30 dias consecutivos para tentar descobrir o valor do dia seguinte. A escolha da data acontecerá aleatoriamente, mas se você preferir, você pode seleionar a dedo."
   ]
  },
  {
   "cell_type": "code",
   "execution_count": 13,
   "id": "ECWmLJHlleHa",
   "metadata": {
    "id": "ECWmLJHlleHa"
   },
   "outputs": [],
   "source": [
    "X = df.values\n",
    "len_days = 30\n",
    "days_predict = len_days + 1"
   ]
  },
  {
   "cell_type": "code",
   "execution_count": 14,
   "id": "tv-Fd6p0lpqN",
   "metadata": {
    "colab": {
     "base_uri": "https://localhost:8080/"
    },
    "id": "tv-Fd6p0lpqN",
    "outputId": "95087f65-9ec7-4938-b8a2-5cebb8b4b617"
   },
   "outputs": [
    {
     "data": {
      "text/plain": [
       "65"
      ]
     },
     "execution_count": 14,
     "metadata": {},
     "output_type": "execute_result"
    }
   ],
   "source": [
    "#Separar os dados em treino e teste.\n",
    "check = False\n",
    "drawn_number = -1\n",
    "while (check == False):\n",
    "  drawn_number = random.randrange(0,len(df)-1)\n",
    "  if (drawn_number+days_predict) <= (len(df)-1):\n",
    "    check = True\n",
    "drawn_number"
   ]
  },
  {
   "cell_type": "code",
   "execution_count": 15,
   "id": "8bbj-lb8mlrp",
   "metadata": {
    "id": "8bbj-lb8mlrp"
   },
   "outputs": [],
   "source": [
    "train = X[drawn_number:drawn_number+len_days]\n",
    "test =  X[drawn_number+len_days:drawn_number+days_predict]"
   ]
  },
  {
   "cell_type": "code",
   "execution_count": 16,
   "id": "RQdKWLvYmrfu",
   "metadata": {
    "colab": {
     "base_uri": "https://localhost:8080/"
    },
    "id": "RQdKWLvYmrfu",
    "outputId": "61ac4f42-1ab9-4b83-9791-e0bd9f3135d5"
   },
   "outputs": [
    {
     "data": {
      "text/plain": [
       "30"
      ]
     },
     "execution_count": 16,
     "metadata": {},
     "output_type": "execute_result"
    }
   ],
   "source": [
    "train.size"
   ]
  },
  {
   "cell_type": "code",
   "execution_count": 17,
   "id": "ITyYz2FNmt36",
   "metadata": {
    "colab": {
     "base_uri": "https://localhost:8080/"
    },
    "id": "ITyYz2FNmt36",
    "outputId": "d94316a6-1871-438c-863a-5b01a8cccdf7"
   },
   "outputs": [
    {
     "data": {
      "text/plain": [
       "1"
      ]
     },
     "execution_count": 17,
     "metadata": {},
     "output_type": "execute_result"
    }
   ],
   "source": [
    "test.size"
   ]
  },
  {
   "cell_type": "code",
   "execution_count": 18,
   "id": "MUUrirFrm2M3",
   "metadata": {
    "id": "MUUrirFrm2M3"
   },
   "outputs": [],
   "source": [
    "# vamos criar a variável history, para auxiliar na nossa predição\n",
    "history = [x for x in train]"
   ]
  },
  {
   "cell_type": "code",
   "execution_count": 19,
   "id": "ppSv85EdnAQ0",
   "metadata": {
    "id": "ppSv85EdnAQ0"
   },
   "outputs": [],
   "source": [
    "# cria lista de previsões\n",
    "predictions = list()"
   ]
  },
  {
   "cell_type": "markdown",
   "id": "pC0RC-ACnXmL",
   "metadata": {
    "id": "pC0RC-ACnXmL"
   },
   "source": [
    "Para esse caso, a aplicação da diferenciação não será suficiente para tornar a série estacionária, por isso iremos aplicar o método logarítmico."
   ]
  },
  {
   "cell_type": "code",
   "execution_count": 20,
   "id": "JR9ucfiZoFLg",
   "metadata": {
    "id": "JR9ucfiZoFLg"
   },
   "outputs": [],
   "source": [
    "def transform_log(dataset):\n",
    "  return np.log(dataset)\n",
    "\n",
    "def inverse_transform(previsao):\n",
    "  return np.exp(previsao)"
   ]
  },
  {
   "cell_type": "code",
   "execution_count": 21,
   "id": "49b1d3f6",
   "metadata": {
    "colab": {
     "base_uri": "https://localhost:8080/"
    },
    "id": "49b1d3f6",
    "outputId": "8ebe12ed-6a87-4d2f-f03e-c18861b0b6cc"
   },
   "outputs": [
    {
     "name": "stdout",
     "output_type": "stream",
     "text": [
      "Valor predito=728751.341, Valor esperado=757933\n"
     ]
    }
   ],
   "source": [
    "# inicia Walk-Forward\n",
    "for t in range(len(test)):\n",
    "  \n",
    "  df_log = transform_log(history)\n",
    "  \n",
    "  # cria um modelo ARIMA com os dados de history\n",
    "  model = ARIMA(df_log, order=(7,1,1))\n",
    "  \n",
    "  # treina o modelo ARIMA\n",
    "  model_fit = model.fit()\n",
    "  \n",
    "  # a variável valor_predito recebe o valor previsto pelo modelo\n",
    "  valor_predito = model_fit.forecast()[0]\n",
    "\n",
    "  # valor_predito recebe o valor revertido (escala original)\n",
    "  valor_predito = inverse_transform(valor_predito)\n",
    "   \n",
    "  # adiciona o valor predito na lista de predicões\n",
    "  predictions.append(valor_predito)\n",
    "  \n",
    "  # a variável valor_real recebe o valor real do teste\n",
    "  valor_real = test[t]\n",
    "  \n",
    "  # adiciona o valor real a variável history\n",
    "  history.append(valor_real)\n",
    "\n",
    "  # imprime valor predito e valor real\n",
    "  print('Valor predito=%.3f, Valor esperado=%3.f' % (valor_predito, valor_real))"
   ]
  },
  {
   "cell_type": "markdown",
   "id": "5Qt9XNy4qFTZ",
   "metadata": {
    "id": "5Qt9XNy4qFTZ"
   },
   "source": [
    "### Análise do modelo\n",
    "Podemos analisar o modelo aplicando a função mean_absolute_error e passando como parâmetro o valor real e o valor predito."
   ]
  },
  {
   "cell_type": "code",
   "execution_count": 22,
   "id": "jssitW1Tpbwk",
   "metadata": {
    "colab": {
     "base_uri": "https://localhost:8080/"
    },
    "id": "jssitW1Tpbwk",
    "outputId": "f7d15d45-661a-4faf-c91e-e1186b0b4a2c"
   },
   "outputs": [
    {
     "data": {
      "text/plain": [
       "29181.658807926695"
      ]
     },
     "execution_count": 22,
     "metadata": {},
     "output_type": "execute_result"
    }
   ],
   "source": [
    "mae(test, predictions)"
   ]
  },
  {
   "cell_type": "markdown",
   "id": "a7e67850",
   "metadata": {
    "id": "a7e67850"
   },
   "source": [
    "## Referências\n",
    "\n",
    "[Dicas para criar um modelo de previsão de séries temporais](https://medium.com/techbloghotmart/dicas-para-criar-um-modelo-de-previs%C3%A3o-de-s%C3%A9ries-temporais-d4bb2e32e148)\n",
    "\n",
    "[Modelos ARIMA](http://sillasgonzaga.com/material/curso_series_temporais/arima.html)\n",
    "\n",
    "[Prevendo Vendas com ARIMA - Passo a Passo com Python](https://www.youtube.com/watch?v=v7rZpT8NCbk)\n",
    "\n",
    "\n",
    "\n"
   ]
  }
 ],
 "metadata": {
  "colab": {
   "name": "predicao-modelo-arima.ipynb",
   "provenance": []
  },
  "kernelspec": {
   "display_name": "Python 3 (ipykernel)",
   "language": "python",
   "name": "python3"
  },
  "language_info": {
   "codemirror_mode": {
    "name": "ipython",
    "version": 3
   },
   "file_extension": ".py",
   "mimetype": "text/x-python",
   "name": "python",
   "nbconvert_exporter": "python",
   "pygments_lexer": "ipython3",
   "version": "3.9.5"
  }
 },
 "nbformat": 4,
 "nbformat_minor": 5
}
