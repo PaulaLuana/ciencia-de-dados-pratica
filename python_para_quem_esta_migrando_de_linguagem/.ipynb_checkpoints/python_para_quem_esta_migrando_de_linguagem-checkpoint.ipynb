{
 "cells": [
  {
   "cell_type": "markdown",
   "id": "9abeff31",
   "metadata": {},
   "source": [
    "# *Sintaxe python para quem está migrando de linguagem de programação.*\n",
    "Esse tutorial é destinado à programadores que querem conhecer a sintaxe da linguagem python.\n",
    "\n",
    "## Sumário\n",
    "1. A linguagem mais usada entre os cientistas de dados brasileiros.\n",
    "2. Conhecendo a sintaxe do python.<br>\n",
    "    2.1. Variáveis.<br>\n",
    "    2.2. Tipos.<br>\n",
    "    2.3. Entrada e saída.<br>\n",
    "    2.4. Condicional.<br>\n",
    "    2.5. Repetição.<br>\n",
    "    2.6. Funções.<br>\n",
    "    <ol>\n",
    "    2.6.1. Usando <b>def</b>.<br>\n",
    "    2.6.2. Usando <b>lambda</b>.<br>\n",
    "    </ol>\n",
    "    2.7. Listas.<br>\n",
    "    <ol>\n",
    "    2.7.1. Manipulações de listas.<br>\n",
    "    2.7.2. Conheça a <b>range</b>.<br>\n",
    "    </ol>\n",
    "3. Referências \n",
    "\n",
    "## 1. A linguagem mais usada entre os cientistas de dados brasileiros.\n",
    "Python é a linguagem mais usada na área de Ciência de Dados no Brasil, segundo a [TecMundo](https://www.tecmundo.com.br/software/208403-4-linguagens-crescimento-mercado-data-science.htm?fbclid=IwAR0_1w7KsQIHnOxG6FokZ2vPeQ-76Bg1BTAimZ5t5SSYqtlzWX6fI_EGUyw). Isso se deve ao seu alto poder computacional, seu grande número de bibliotecas disponíveis, sua legibilidade e sua fácil depuração. [É uma linguagem de programação de alto nível, interpretada de script, imperativa, orientada a objetos, funcional, de tipagem dinâmica e forte](https://pt.wikipedia.org/wiki/Python)\n",
    "\n",
    "## 2. Conhecendo a sintaxe do python.\n",
    "\n",
    "### 2.1. Variavéis\n",
    "Diferente de muitas linguagens de programação em que precisamos definir o tipo da variável, a linguagem python não precisa disso. Sua tipagem é definida quando passamos um dado para aquela variável. Por exemplo, `x = 10`, nesse momento a variável possui o tipo **int**, mas se a na linha seguinte colocássemos `x = \"Ciência de Dados Prática\"`, o tipo se tornaria **str**."
   ]
  },
  {
   "cell_type": "code",
   "execution_count": 1,
   "id": "e7068b73",
   "metadata": {},
   "outputs": [
    {
     "data": {
      "text/plain": [
       "int"
      ]
     },
     "execution_count": 1,
     "metadata": {},
     "output_type": "execute_result"
    }
   ],
   "source": [
    "x = 10\n",
    "type(x)"
   ]
  },
  {
   "cell_type": "code",
   "execution_count": 2,
   "id": "213fe6d9",
   "metadata": {},
   "outputs": [
    {
     "data": {
      "text/plain": [
       "str"
      ]
     },
     "execution_count": 2,
     "metadata": {},
     "output_type": "execute_result"
    }
   ],
   "source": [
    "x = \"Ciência de Dados Prática\"\n",
    "type(x)"
   ]
  },
  {
   "cell_type": "markdown",
   "id": "077a0e57",
   "metadata": {},
   "source": [
    "### 2.2. Tipos.\n",
    "Em python, existem os seguintes tipo: inteiro (int), ponto flutuante (float), booleano (bool), complexo (complex) e string(str). Mais na frente veremos formas de maniuplar esses tipos.\n",
    "\n",
    "### 2.3. Entrada e saída.\n",
    "**Entrada**: Para pedir um dado, basta declarar uma variável e passar a função input, `x = input(\"Qual o valor de x\")`. Mas é válido saber, que essa função retorna uma string, então poderíamos converter o valor dela da seguinte forma, `x = int(input(\"Qual o valor de x\"))`. O texto que está dentro do input é o que queremos que apareça para o usuário ao solicitar um dado.<br>\n",
    "**Saída**: Na saída, basta declaramos a função print e passar o que queremos que ela mostre, `print(\"O valor de x é\", x)`. Repare que na função, o texto que adicionamos para mostrar do usuário é separado da variável e isso acontece para todos os casos.<br>\n",
    "**Usando entrada e saída**:"
   ]
  },
  {
   "cell_type": "code",
   "execution_count": 3,
   "id": "55be1200",
   "metadata": {},
   "outputs": [
    {
     "name": "stdout",
     "output_type": "stream",
     "text": [
      "Qual o valor de x? 2\n"
     ]
    },
    {
     "data": {
      "text/plain": [
       "str"
      ]
     },
     "execution_count": 3,
     "metadata": {},
     "output_type": "execute_result"
    }
   ],
   "source": [
    "x = input(\"Qual o valor de x? \")\n",
    "type(x)"
   ]
  },
  {
   "cell_type": "code",
   "execution_count": 4,
   "id": "fa4c1e15",
   "metadata": {},
   "outputs": [
    {
     "name": "stdout",
     "output_type": "stream",
     "text": [
      "Qual o valor de y? 2\n"
     ]
    },
    {
     "data": {
      "text/plain": [
       "int"
      ]
     },
     "execution_count": 4,
     "metadata": {},
     "output_type": "execute_result"
    }
   ],
   "source": [
    "y = int(input(\"Qual o valor de y? \"))\n",
    "type(y)"
   ]
  },
  {
   "cell_type": "code",
   "execution_count": 5,
   "id": "422e62e7",
   "metadata": {},
   "outputs": [
    {
     "name": "stdout",
     "output_type": "stream",
     "text": [
      "O valor de x é: 2 e x é <class 'str'>\n",
      "O valor de y é: 2 e y é <class 'int'>\n"
     ]
    }
   ],
   "source": [
    "print(\"O valor de x é:\", x, \"e x é\", type(x))\n",
    "print(\"O valor de y é:\", y, \"e y é\", type(y))"
   ]
  },
  {
   "cell_type": "markdown",
   "id": "7df39a0c",
   "metadata": {},
   "source": [
    "### 2.4. Condicional.\n",
    "O condicional em python, não é muito diferente de outras linguagens, no entanto, ainda assim, o uso da sintaxe é super importante para evitar erros. \n",
    "**Diferenças**: Precisamos usar \":\" no final de toda condição, ao invés de usar **else if**, usamos **elif**, veja a seguir:\n",
    "\n",
    "Observe a indentação, ela precisa estar correta para evitar erros durante a compilação do seu código."
   ]
  },
  {
   "cell_type": "code",
   "execution_count": 6,
   "id": "bbb536b5",
   "metadata": {},
   "outputs": [
    {
     "name": "stdout",
     "output_type": "stream",
     "text": [
      "15\n",
      "10 < x < 20\n"
     ]
    }
   ],
   "source": [
    "x = int(input())\n",
    "\n",
    "if x < 10:\n",
    "    print(\"x < 10\")\n",
    "elif x < 20:\n",
    "    print(\"10 < x < 20\")\n",
    "else:\n",
    "    print(\"x >= 20\")"
   ]
  },
  {
   "cell_type": "markdown",
   "id": "d82f8e67",
   "metadata": {},
   "source": [
    "## 2.5. Repetição\n",
    "Aqui veremos o **while** e o **for**, você poderá observar que assim como no condicional, ao invés de usar algo como chaves, usamos o \":\".\n",
    "\n",
    "**Uso do while:** Repare que o while não muda tanto."
   ]
  },
  {
   "cell_type": "code",
   "execution_count": 7,
   "id": "981d2921",
   "metadata": {},
   "outputs": [
    {
     "name": "stdout",
     "output_type": "stream",
     "text": [
      "47\n",
      "44\n",
      "41\n",
      "38\n",
      "35\n",
      "32\n",
      "29\n",
      "26\n",
      "23\n",
      "20\n",
      "17\n",
      "14\n",
      "11\n",
      "8\n",
      "5\n",
      "2\n"
     ]
    }
   ],
   "source": [
    "x = 50\n",
    "verifica = True\n",
    "\n",
    "while(verifica):\n",
    "    x = x - 3\n",
    "    if x > 0:\n",
    "        print(x) \n",
    "    else:\n",
    "        verifica = False"
   ]
  },
  {
   "cell_type": "markdown",
   "id": "59a48720",
   "metadata": {},
   "source": [
    "**Uso do for:** O for assume o formato do que chamamos de foreach. O **i** vai percorer o que estamos passando após o **in**."
   ]
  },
  {
   "cell_type": "code",
   "execution_count": 8,
   "id": "08f78b2a",
   "metadata": {},
   "outputs": [
    {
     "name": "stdout",
     "output_type": "stream",
     "text": [
      "3\n",
      "6\n",
      "9\n",
      "12\n",
      "15\n",
      "18\n",
      "21\n",
      "24\n",
      "27\n",
      "30\n",
      "33\n",
      "36\n",
      "39\n",
      "42\n",
      "45\n",
      "48\n"
     ]
    }
   ],
   "source": [
    "x = range(1,51)\n",
    "\n",
    "for i in x:\n",
    "    if i % 3 == 0:\n",
    "        print(i) "
   ]
  },
  {
   "cell_type": "markdown",
   "id": "e5afc288",
   "metadata": {},
   "source": [
    "\n",
    "## 2.6. Funções\n",
    "Assim como nas variáveis, nós precisamos dizer qual o tipo do retorno de uma função.\n",
    "\n",
    "### 2.6.1. Usando def\n",
    "O def serve para definir a nossa função, informar que estamos criando uma função. Observe a seguir, o cálculo do fatorial.\n"
   ]
  },
  {
   "cell_type": "code",
   "execution_count": 9,
   "id": "f4c6a892",
   "metadata": {},
   "outputs": [
    {
     "data": {
      "text/plain": [
       "120"
      ]
     },
     "execution_count": 9,
     "metadata": {},
     "output_type": "execute_result"
    }
   ],
   "source": [
    "def fatorial(n):\n",
    "    if n == 0 or n == 1:\n",
    "         return 1\n",
    "    else:\n",
    "        return n * fatorial(n-1)\n",
    "    \n",
    "fatorial(5)"
   ]
  },
  {
   "cell_type": "markdown",
   "id": "0ecd93bd",
   "metadata": {},
   "source": [
    "### 2.6.2. Usando lambda\n",
    "Usar lambda para criar uma função, significa que estamos usando uma função anônima, uma função sem nome, veja a seguir, os exemplos a seguir:\n",
    "\n",
    "Repare que, quando declaramos `lambda x:`, isso significa que essa função vai esperar receber apenas um parâmetro, após o `:`, descrevemos o comportamento da função. Ela devolve `Par` se x passar pela primeira condição. Repare também que não estamos usando `:` após a condição do if e do else, isso de deve a como temos que declarar a função lambda, primeiro passando seu primeiro retorno."
   ]
  },
  {
   "cell_type": "code",
   "execution_count": 10,
   "id": "1bd7efc9",
   "metadata": {},
   "outputs": [
    {
     "data": {
      "text/plain": [
       "'Ímpar'"
      ]
     },
     "execution_count": 10,
     "metadata": {},
     "output_type": "execute_result"
    }
   ],
   "source": [
    "parOuImpar = lambda x: \"Par\" if(x % 2 == 0) else \"Ímpar\"\n",
    "parOuImpar(33)"
   ]
  },
  {
   "cell_type": "markdown",
   "id": "45af80cd",
   "metadata": {},
   "source": [
    "Agora veja o nosso mesmo fatorial sendo definido como uma função lambda."
   ]
  },
  {
   "cell_type": "code",
   "execution_count": 11,
   "id": "2d6838df",
   "metadata": {},
   "outputs": [
    {
     "data": {
      "text/plain": [
       "120"
      ]
     },
     "execution_count": 11,
     "metadata": {},
     "output_type": "execute_result"
    }
   ],
   "source": [
    "fat = lambda x: 1 if(x == 1 or x == 0) else x * fat(x-1)\n",
    "fat(5)"
   ]
  },
  {
   "cell_type": "markdown",
   "id": "862d872d",
   "metadata": {},
   "source": [
    "## 2.7. Listas\n",
    "Em python, os nossos vetores são os arrays, as listas são outros tipo definição. [As diferenças entre lista e array em Python são na performance e nas funcionalidades disponíveis. O array usa menos memória do que a lista, é mais rápido nas operações de leitura e possibilita executar operações matemáticas sobre todos os itens de uma só vez. Além disso, no array todos os elementos têm que ter o mesmo tipo de dado, mas a lista pode ter elementos de tipos diferentes.](https://vaiprogramar.com/diferenca-lista-array-python/#:~:text=As%20diferen%C3%A7as%20entre%20lista%20e,itens%20de%20uma%20s%C3%B3%20vez.)\n",
    "\n",
    "### 2.7.1 Manipulações de listas\n",
    "\n",
    "**Tipo**<br>\n",
    "Repare que uma lista não possui um tipo específico, podendo ter mais de um tipo de dados "
   ]
  },
  {
   "cell_type": "code",
   "execution_count": 12,
   "id": "96e88144",
   "metadata": {},
   "outputs": [
    {
     "data": {
      "text/plain": [
       "list"
      ]
     },
     "execution_count": 12,
     "metadata": {},
     "output_type": "execute_result"
    }
   ],
   "source": [
    "lista = [\"Ciência de Dados Prática é\", 10]\n",
    "type(lista)"
   ]
  },
  {
   "cell_type": "markdown",
   "id": "d5b5647e",
   "metadata": {},
   "source": [
    "**Concatenação**<br>\n",
    "Podemos concatenar com listas de dados diferentes também."
   ]
  },
  {
   "cell_type": "code",
   "execution_count": 13,
   "id": "1faa3345",
   "metadata": {},
   "outputs": [
    {
     "data": {
      "text/plain": [
       "['Ciência de Dados Prática é',\n",
       " 10,\n",
       " 'Estudar python é bom demais',\n",
       " 10,\n",
       " 20,\n",
       " 30,\n",
       " 'Estudar ciência de dados também']"
      ]
     },
     "execution_count": 13,
     "metadata": {},
     "output_type": "execute_result"
    }
   ],
   "source": [
    "lista2 = [\"Estudar python é bom demais\", 10, 20, 30, \"Estudar ciência de dados também\"]\n",
    "lista += lista2\n",
    "lista"
   ]
  },
  {
   "cell_type": "markdown",
   "id": "dc8301b2",
   "metadata": {},
   "source": [
    "**Mudar elemento da lista**<br>\n",
    "Podemos mudar o elemento apenas acessando seu índice na lista."
   ]
  },
  {
   "cell_type": "code",
   "execution_count": 14,
   "id": "6ae7cddc",
   "metadata": {},
   "outputs": [
    {
     "data": {
      "text/plain": [
       "['Ciência de Dados Prática é',\n",
       " 10,\n",
       " 'Estudar python é bom demais',\n",
       " 10,\n",
       " 20,\n",
       " 30,\n",
       " 'Estatística é legal']"
      ]
     },
     "execution_count": 14,
     "metadata": {},
     "output_type": "execute_result"
    }
   ],
   "source": [
    "lista[6] = \"Estatística é legal\"\n",
    "lista"
   ]
  },
  {
   "cell_type": "markdown",
   "id": "3db736e3",
   "metadata": {},
   "source": [
    "**Deleção de elemento**<br>\n",
    "Agora, vamos deletar os elementos que são do tipo `str`. Veja que deletamos de um por um, devido que a cada deleção os índices são atualizados automaticamente."
   ]
  },
  {
   "cell_type": "code",
   "execution_count": 15,
   "id": "895b5ce0",
   "metadata": {},
   "outputs": [
    {
     "data": {
      "text/plain": [
       "[10, 'Estudar python é bom demais', 10, 20, 30, 'Estatística é legal']"
      ]
     },
     "execution_count": 15,
     "metadata": {},
     "output_type": "execute_result"
    }
   ],
   "source": [
    "del lista[0]\n",
    "lista"
   ]
  },
  {
   "cell_type": "code",
   "execution_count": 16,
   "id": "c8b7beb3",
   "metadata": {},
   "outputs": [
    {
     "data": {
      "text/plain": [
       "[10, 10, 20, 30, 'Estatística é legal']"
      ]
     },
     "execution_count": 16,
     "metadata": {},
     "output_type": "execute_result"
    }
   ],
   "source": [
    "del lista[1]\n",
    "lista"
   ]
  },
  {
   "cell_type": "code",
   "execution_count": 17,
   "id": "d22a8b8a",
   "metadata": {},
   "outputs": [
    {
     "data": {
      "text/plain": [
       "[10, 10, 20, 30]"
      ]
     },
     "execution_count": 17,
     "metadata": {},
     "output_type": "execute_result"
    }
   ],
   "source": [
    "del lista[4]\n",
    "lista"
   ]
  },
  {
   "cell_type": "markdown",
   "id": "39b2e30e",
   "metadata": {},
   "source": [
    "**Ordenando lista**<br>\n",
    "Vamos adicionar mais elementos na nossa lista."
   ]
  },
  {
   "cell_type": "code",
   "execution_count": 18,
   "id": "ed58003b",
   "metadata": {},
   "outputs": [
    {
     "data": {
      "text/plain": [
       "[10, 10, 20, 30, 5, 2, 1, 8, 70, 66, 52]"
      ]
     },
     "execution_count": 18,
     "metadata": {},
     "output_type": "execute_result"
    }
   ],
   "source": [
    "lista += [5, 2, 1, 8, 70, 66, 52]\n",
    "lista"
   ]
  },
  {
   "cell_type": "markdown",
   "id": "d1d3bb40",
   "metadata": {},
   "source": [
    "Agora com mais elementos e apenas elementos númericos, podemos ordenar essa lista da seguinte maneira:"
   ]
  },
  {
   "cell_type": "code",
   "execution_count": 19,
   "id": "0e171343",
   "metadata": {},
   "outputs": [
    {
     "data": {
      "text/plain": [
       "[1, 2, 5, 8, 10, 10, 20, 30, 52, 66, 70]"
      ]
     },
     "execution_count": 19,
     "metadata": {},
     "output_type": "execute_result"
    }
   ],
   "source": [
    "lista.sort()\n",
    "lista"
   ]
  },
  {
   "cell_type": "markdown",
   "id": "11baac72",
   "metadata": {},
   "source": [
    "### 2.7.2. Conheça a range\n",
    "[A função range() retorna uma série numérica no intervalo enviado como argumento. A série retornada é um objeto iterável tipo range e os elementos contidos serão gerados sob demanda.](http://excript.com/python/funcao-range-python.html#:~:text=A%20fun%C3%A7%C3%A3o%20range()%20permite,o%20%C3%BAltimo%20elemento%20da%20sequ%C3%AAncia.&text=Na%20defini%C3%A7%C3%A3o%20da%20fun%C3%A7%C3%A3o%20range,sequ%C3%AAncia%20%C3%A9%20aberto%20ou%20fechado.) Usando a função `range`, só somos obrigados a informar quando a range terminar, por exemeplo `range(5)`, isso irá nos retornar os 5 primeiros elementos a partir de 5, mas também podemos informar de onde a range começa e onde ela termina, `range(5, 11)`, usando esse código nossa função retorna uma range que começa em 5 e termina em 10(sempre um a menos do que o que foi passado na função). Podemos também fazer com que essa range pule os números de 2 em 2, ou qualquer quantidade que a gente queira, usando `range(5, 11, 2)`, esse último elemento é o que indica de quanto em quantos números vamos pular.\n",
    "\n",
    "**Por que estamos vendo range em um tópico de lista?**\n",
    "Porque podemos transformar uma range em uma lista, da seguinte maneira: "
   ]
  },
  {
   "cell_type": "code",
   "execution_count": 25,
   "id": "01fe85ac",
   "metadata": {},
   "outputs": [
    {
     "data": {
      "text/plain": [
       "[5, 7, 9]"
      ]
     },
     "execution_count": 25,
     "metadata": {},
     "output_type": "execute_result"
    }
   ],
   "source": [
    "listaRange = list(range(5,11,2))\n",
    "listaRange"
   ]
  },
  {
   "cell_type": "markdown",
   "id": "c9470e64",
   "metadata": {},
   "source": [
    "## 3. Referências\n",
    "[Linguagem mais usada entre os cientistas de dados no Brasil - TecMundo](https://www.tecmundo.com.br/software/208403-4-linguagens-crescimento-mercado-data-science.htm?fbclid=IwAR0_1w7KsQIHnOxG6FokZ2vPeQ-76Bg1BTAimZ5t5SSYqtlzWX6fI_EGUyw)\n",
    "\n",
    "[Definição da linguagem python](https://pt.wikipedia.org/wiki/Python)\n",
    "\n",
    "[Diferença entre array e lista em python](https://vaiprogramar.com/diferenca-lista-array-python/#:~:text=As%20diferen%C3%A7as%20entre%20lista%20e,itens%20de%20uma%20s%C3%B3%20vez.)\n"
   ]
  },
  {
   "cell_type": "markdown",
   "id": "e9ad8079",
   "metadata": {},
   "source": [
    "#### Para acessar o material em vídeo no Youtube:\n",
    "[Python para quem está migrando de linguagem(Parte 1)](https://www.youtube.com/watch?v=7bM2PYvMgzE)<br>\n",
    "[Python para quem está migrando de linguagem(Parte 2)](https://www.youtube.com/watch?v=-l1Qk1GwtnU&t=2s)"
   ]
  }
 ],
 "metadata": {
  "kernelspec": {
   "display_name": "Python (myenv)",
   "language": "python",
   "name": "myenv"
  },
  "language_info": {
   "codemirror_mode": {
    "name": "ipython",
    "version": 3
   },
   "file_extension": ".py",
   "mimetype": "text/x-python",
   "name": "python",
   "nbconvert_exporter": "python",
   "pygments_lexer": "ipython3",
   "version": "3.9.1"
  }
 },
 "nbformat": 4,
 "nbformat_minor": 5
}
