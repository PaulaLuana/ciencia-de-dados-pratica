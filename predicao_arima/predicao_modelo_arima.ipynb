{
  "nbformat": 4,
  "nbformat_minor": 5,
  "metadata": {
    "kernelspec": {
      "display_name": "Python 3 (ipykernel)",
      "language": "python",
      "name": "python3"
    },
    "language_info": {
      "codemirror_mode": {
        "name": "ipython",
        "version": 3
      },
      "file_extension": ".py",
      "mimetype": "text/x-python",
      "name": "python",
      "nbconvert_exporter": "python",
      "pygments_lexer": "ipython3",
      "version": "3.9.5"
    },
    "colab": {
      "name": "predicao_modelo_arima.ipynb",
      "provenance": [],
      "collapsed_sections": []
    }
  },
  "cells": [
    {
      "cell_type": "markdown",
      "metadata": {
        "id": "59e7c3b2"
      },
      "source": [
        "Data da publicação: 04/10/2021<br>\n",
        "Tutorial escrito por Paula Luana Oliveira da Silva, graduanda em Ciência da Computação pela Universidade Federal do Ceará - Campus Quixadá."
      ],
      "id": "59e7c3b2"
    },
    {
      "cell_type": "markdown",
      "metadata": {
        "id": "o-I8Cu8zXW1D"
      },
      "source": [
        "# Predição de séries temporais com o ARIMA"
      ],
      "id": "o-I8Cu8zXW1D"
    },
    {
      "cell_type": "markdown",
      "metadata": {
        "id": "viWISBIDV_JM"
      },
      "source": [
        "## Introdução a Séries Temporais\n",
        "\n",
        "### Definição\n",
        "Séries temporais são dados coletados em intervalos regulares de tempo. Esses dados possuem dependência com a ordem e com eles podemos observar em que data esses dados decrescem ou crescem. Usamos séries temporais comumente para entender em que dias, meses ou anos, os valores são alterados e porque são alterados. Por exemplo, em uma sorveteria podemos analisar em que dias da semana as vendas são maiores, em quais meses as vendas aumentam e a partir disso podemos inferir informações, como que, os sorvetes vendem mais no verão.\n",
        "\n",
        "### Padrões\n",
        "Em séries temporais podemos extrair padrões, esses padrões são:<br>\n",
        "**Sazonalidade:** Padrão que se repete.<br>\n",
        "Exemplo: Em um terminal de ônibus durante a semana, a circulação de pessoas é maior às 19h da noite, que é o horário em que trabalhadores estão saindo do serviço.\n",
        "\n",
        "**Ciclos:** Padrões que ocorrem eventualmente.<br>\n",
        "Exemplo: No mesmo mesmo terminal de ônibus, em um feriado na semana, a circulação de pessoas decresce às 19h\n",
        "\n",
        "**Tendência:** Nos ajuda a visualizar e entender qual a tendência dos nosso dados, se eles crescem no decorrer do tempo ou decrescem.<br> Exemplo: Em julho a circulação de pessoas aumentam no terminal, porque muitas pessoas estão de férias, então saem mais. Ou seja, em julho, nossos dados tendem positivamente.\n",
        "\n",
        "**Ruídos:** São os dados que não se incluem nos padrões."
      ],
      "id": "viWISBIDV_JM"
    },
    {
      "cell_type": "code",
      "metadata": {
        "colab": {
          "base_uri": "https://localhost:8080/"
        },
        "id": "s1AZofP-Xm5P",
        "outputId": "ccce1be7-ac24-4e70-a59a-47e1211039f9"
      },
      "source": [
        "from google.colab import drive\n",
        "drive.mount('/content/drive')"
      ],
      "id": "s1AZofP-Xm5P",
      "execution_count": 1,
      "outputs": [
        {
          "output_type": "stream",
          "name": "stdout",
          "text": [
            "Drive already mounted at /content/drive; to attempt to forcibly remount, call drive.mount(\"/content/drive\", force_remount=True).\n"
          ]
        }
      ]
    },
    {
      "cell_type": "code",
      "metadata": {
        "colab": {
          "base_uri": "https://localhost:8080/"
        },
        "id": "8hUMaq9VXzo-",
        "outputId": "cdd1c97c-f3dc-4a95-9d36-3d6d017bd210"
      },
      "source": [
        "import pandas as pd\n",
        "import matplotlib.pyplot as plt\n",
        "from statsmodels.tsa.seasonal import seasonal_decompose\n",
        "\n",
        "%matplotlib inline"
      ],
      "id": "8hUMaq9VXzo-",
      "execution_count": 2,
      "outputs": [
        {
          "output_type": "stream",
          "name": "stderr",
          "text": [
            "/usr/local/lib/python3.7/dist-packages/statsmodels/tools/_testing.py:19: FutureWarning: pandas.util.testing is deprecated. Use the functions in the public API at pandas.testing instead.\n",
            "  import pandas.util.testing as tm\n"
          ]
        }
      ]
    },
    {
      "cell_type": "markdown",
      "metadata": {
        "id": "Qo21ivrVYILv"
      },
      "source": [
        "### Conhecendo os dados originais\n",
        "\n",
        "Com o crescimento exponencial de mortes causadas pela COVID-19, a criação de vacinas precisou ser o mais breve possível. Agora, com vários tipos de vacinas sendo aplicadas, a expectativa da população é que o progresso da vacinação seja rápido. Saber quando esse processo de vacinação vai acabar é uma tarefa difícil, já que cada país tem seu ritmo, suas variáveis e problemas políticos que podem desacelerar a vacinação. Dessa maneira, cada país possui um comportamento diferente quando se refere a quantidade de vacinas aplicadas por dia e o total de vacinas aplicadas.\n",
        "\n",
        "Neste trabalho, os dados utilizados são coletas diárias sobre a quantidade de vacinas aplicadas em cada país e indicam o progresso da vacinação no mundo.  O conjunto de dados é apresentado na plataforma *Kaggle*(plataforma de aprendizado e prática de *Data Science*) como o problema [COVID-19 World Vaccination Progress](www.kaggle.com/gpreda/covid-world-vaccination-progress), no qual as coletas apresentadas no quadro de dados foram retiradas do repositório do GitHub do [Our World in Data](https://github.com/owid/covid-19-data)(publicação digital, especializada em dados analíticos). "
      ],
      "id": "Qo21ivrVYILv"
    },
    {
      "cell_type": "code",
      "metadata": {
        "colab": {
          "base_uri": "https://localhost:8080/",
          "height": 779
        },
        "id": "zJ1R3WmlYMj3",
        "outputId": "c9aadd03-56a0-4904-9460-a5ffb46807bf"
      },
      "source": [
        "original_df = pd.read_csv('/content/drive/MyDrive/tutoriais/country_vaccinations.csv')\n",
        "original_df"
      ],
      "id": "zJ1R3WmlYMj3",
      "execution_count": 3,
      "outputs": [
        {
          "output_type": "execute_result",
          "data": {
            "text/html": [
              "<div>\n",
              "<style scoped>\n",
              "    .dataframe tbody tr th:only-of-type {\n",
              "        vertical-align: middle;\n",
              "    }\n",
              "\n",
              "    .dataframe tbody tr th {\n",
              "        vertical-align: top;\n",
              "    }\n",
              "\n",
              "    .dataframe thead th {\n",
              "        text-align: right;\n",
              "    }\n",
              "</style>\n",
              "<table border=\"1\" class=\"dataframe\">\n",
              "  <thead>\n",
              "    <tr style=\"text-align: right;\">\n",
              "      <th></th>\n",
              "      <th>country</th>\n",
              "      <th>iso_code</th>\n",
              "      <th>date</th>\n",
              "      <th>total_vaccinations</th>\n",
              "      <th>people_vaccinated</th>\n",
              "      <th>people_fully_vaccinated</th>\n",
              "      <th>daily_vaccinations_raw</th>\n",
              "      <th>daily_vaccinations</th>\n",
              "      <th>total_vaccinations_per_hundred</th>\n",
              "      <th>people_vaccinated_per_hundred</th>\n",
              "      <th>people_fully_vaccinated_per_hundred</th>\n",
              "      <th>daily_vaccinations_per_million</th>\n",
              "      <th>vaccines</th>\n",
              "      <th>source_name</th>\n",
              "      <th>source_website</th>\n",
              "    </tr>\n",
              "  </thead>\n",
              "  <tbody>\n",
              "    <tr>\n",
              "      <th>0</th>\n",
              "      <td>Afghanistan</td>\n",
              "      <td>AFG</td>\n",
              "      <td>2021-02-22</td>\n",
              "      <td>0.0</td>\n",
              "      <td>0.0</td>\n",
              "      <td>NaN</td>\n",
              "      <td>NaN</td>\n",
              "      <td>NaN</td>\n",
              "      <td>0.00</td>\n",
              "      <td>0.00</td>\n",
              "      <td>NaN</td>\n",
              "      <td>NaN</td>\n",
              "      <td>Johnson&amp;Johnson, Oxford/AstraZeneca, Pfizer/Bi...</td>\n",
              "      <td>World Health Organization</td>\n",
              "      <td>https://app.powerbi.com/view?r=eyJrIjoiYTkyM2V...</td>\n",
              "    </tr>\n",
              "    <tr>\n",
              "      <th>1</th>\n",
              "      <td>Afghanistan</td>\n",
              "      <td>AFG</td>\n",
              "      <td>2021-02-23</td>\n",
              "      <td>NaN</td>\n",
              "      <td>NaN</td>\n",
              "      <td>NaN</td>\n",
              "      <td>NaN</td>\n",
              "      <td>1367.0</td>\n",
              "      <td>NaN</td>\n",
              "      <td>NaN</td>\n",
              "      <td>NaN</td>\n",
              "      <td>34.0</td>\n",
              "      <td>Johnson&amp;Johnson, Oxford/AstraZeneca, Pfizer/Bi...</td>\n",
              "      <td>World Health Organization</td>\n",
              "      <td>https://app.powerbi.com/view?r=eyJrIjoiYTkyM2V...</td>\n",
              "    </tr>\n",
              "    <tr>\n",
              "      <th>2</th>\n",
              "      <td>Afghanistan</td>\n",
              "      <td>AFG</td>\n",
              "      <td>2021-02-24</td>\n",
              "      <td>NaN</td>\n",
              "      <td>NaN</td>\n",
              "      <td>NaN</td>\n",
              "      <td>NaN</td>\n",
              "      <td>1367.0</td>\n",
              "      <td>NaN</td>\n",
              "      <td>NaN</td>\n",
              "      <td>NaN</td>\n",
              "      <td>34.0</td>\n",
              "      <td>Johnson&amp;Johnson, Oxford/AstraZeneca, Pfizer/Bi...</td>\n",
              "      <td>World Health Organization</td>\n",
              "      <td>https://app.powerbi.com/view?r=eyJrIjoiYTkyM2V...</td>\n",
              "    </tr>\n",
              "    <tr>\n",
              "      <th>3</th>\n",
              "      <td>Afghanistan</td>\n",
              "      <td>AFG</td>\n",
              "      <td>2021-02-25</td>\n",
              "      <td>NaN</td>\n",
              "      <td>NaN</td>\n",
              "      <td>NaN</td>\n",
              "      <td>NaN</td>\n",
              "      <td>1367.0</td>\n",
              "      <td>NaN</td>\n",
              "      <td>NaN</td>\n",
              "      <td>NaN</td>\n",
              "      <td>34.0</td>\n",
              "      <td>Johnson&amp;Johnson, Oxford/AstraZeneca, Pfizer/Bi...</td>\n",
              "      <td>World Health Organization</td>\n",
              "      <td>https://app.powerbi.com/view?r=eyJrIjoiYTkyM2V...</td>\n",
              "    </tr>\n",
              "    <tr>\n",
              "      <th>4</th>\n",
              "      <td>Afghanistan</td>\n",
              "      <td>AFG</td>\n",
              "      <td>2021-02-26</td>\n",
              "      <td>NaN</td>\n",
              "      <td>NaN</td>\n",
              "      <td>NaN</td>\n",
              "      <td>NaN</td>\n",
              "      <td>1367.0</td>\n",
              "      <td>NaN</td>\n",
              "      <td>NaN</td>\n",
              "      <td>NaN</td>\n",
              "      <td>34.0</td>\n",
              "      <td>Johnson&amp;Johnson, Oxford/AstraZeneca, Pfizer/Bi...</td>\n",
              "      <td>World Health Organization</td>\n",
              "      <td>https://app.powerbi.com/view?r=eyJrIjoiYTkyM2V...</td>\n",
              "    </tr>\n",
              "    <tr>\n",
              "      <th>...</th>\n",
              "      <td>...</td>\n",
              "      <td>...</td>\n",
              "      <td>...</td>\n",
              "      <td>...</td>\n",
              "      <td>...</td>\n",
              "      <td>...</td>\n",
              "      <td>...</td>\n",
              "      <td>...</td>\n",
              "      <td>...</td>\n",
              "      <td>...</td>\n",
              "      <td>...</td>\n",
              "      <td>...</td>\n",
              "      <td>...</td>\n",
              "      <td>...</td>\n",
              "      <td>...</td>\n",
              "    </tr>\n",
              "    <tr>\n",
              "      <th>43140</th>\n",
              "      <td>Zimbabwe</td>\n",
              "      <td>ZWE</td>\n",
              "      <td>2021-09-03</td>\n",
              "      <td>4372216.0</td>\n",
              "      <td>2681657.0</td>\n",
              "      <td>1690559.0</td>\n",
              "      <td>48481.0</td>\n",
              "      <td>42317.0</td>\n",
              "      <td>28.97</td>\n",
              "      <td>17.77</td>\n",
              "      <td>11.20</td>\n",
              "      <td>2804.0</td>\n",
              "      <td>Oxford/AstraZeneca, Sinopharm/Beijing, Sinovac...</td>\n",
              "      <td>Ministry of Health</td>\n",
              "      <td>https://www.arcgis.com/home/webmap/viewer.html...</td>\n",
              "    </tr>\n",
              "    <tr>\n",
              "      <th>43141</th>\n",
              "      <td>Zimbabwe</td>\n",
              "      <td>ZWE</td>\n",
              "      <td>2021-09-04</td>\n",
              "      <td>4400246.0</td>\n",
              "      <td>2698332.0</td>\n",
              "      <td>1701914.0</td>\n",
              "      <td>28030.0</td>\n",
              "      <td>41413.0</td>\n",
              "      <td>29.16</td>\n",
              "      <td>17.88</td>\n",
              "      <td>11.28</td>\n",
              "      <td>2744.0</td>\n",
              "      <td>Oxford/AstraZeneca, Sinopharm/Beijing, Sinovac...</td>\n",
              "      <td>Ministry of Health</td>\n",
              "      <td>https://www.arcgis.com/home/webmap/viewer.html...</td>\n",
              "    </tr>\n",
              "    <tr>\n",
              "      <th>43142</th>\n",
              "      <td>Zimbabwe</td>\n",
              "      <td>ZWE</td>\n",
              "      <td>2021-09-05</td>\n",
              "      <td>4431599.0</td>\n",
              "      <td>2713248.0</td>\n",
              "      <td>1718351.0</td>\n",
              "      <td>31353.0</td>\n",
              "      <td>41964.0</td>\n",
              "      <td>29.36</td>\n",
              "      <td>17.98</td>\n",
              "      <td>11.39</td>\n",
              "      <td>2781.0</td>\n",
              "      <td>Oxford/AstraZeneca, Sinopharm/Beijing, Sinovac...</td>\n",
              "      <td>Ministry of Health</td>\n",
              "      <td>https://www.arcgis.com/home/webmap/viewer.html...</td>\n",
              "    </tr>\n",
              "    <tr>\n",
              "      <th>43143</th>\n",
              "      <td>Zimbabwe</td>\n",
              "      <td>ZWE</td>\n",
              "      <td>2021-09-06</td>\n",
              "      <td>NaN</td>\n",
              "      <td>NaN</td>\n",
              "      <td>NaN</td>\n",
              "      <td>NaN</td>\n",
              "      <td>41445.0</td>\n",
              "      <td>NaN</td>\n",
              "      <td>NaN</td>\n",
              "      <td>NaN</td>\n",
              "      <td>2746.0</td>\n",
              "      <td>Oxford/AstraZeneca, Sinopharm/Beijing, Sinovac...</td>\n",
              "      <td>Ministry of Health</td>\n",
              "      <td>https://www.arcgis.com/home/webmap/viewer.html...</td>\n",
              "    </tr>\n",
              "    <tr>\n",
              "      <th>43144</th>\n",
              "      <td>Zimbabwe</td>\n",
              "      <td>ZWE</td>\n",
              "      <td>2021-09-07</td>\n",
              "      <td>4493943.0</td>\n",
              "      <td>2750381.0</td>\n",
              "      <td>1743562.0</td>\n",
              "      <td>NaN</td>\n",
              "      <td>39160.0</td>\n",
              "      <td>29.78</td>\n",
              "      <td>18.22</td>\n",
              "      <td>11.55</td>\n",
              "      <td>2595.0</td>\n",
              "      <td>Oxford/AstraZeneca, Sinopharm/Beijing, Sinovac...</td>\n",
              "      <td>Ministry of Health</td>\n",
              "      <td>https://www.arcgis.com/home/webmap/viewer.html...</td>\n",
              "    </tr>\n",
              "  </tbody>\n",
              "</table>\n",
              "<p>43145 rows × 15 columns</p>\n",
              "</div>"
            ],
            "text/plain": [
              "           country  ...                                     source_website\n",
              "0      Afghanistan  ...  https://app.powerbi.com/view?r=eyJrIjoiYTkyM2V...\n",
              "1      Afghanistan  ...  https://app.powerbi.com/view?r=eyJrIjoiYTkyM2V...\n",
              "2      Afghanistan  ...  https://app.powerbi.com/view?r=eyJrIjoiYTkyM2V...\n",
              "3      Afghanistan  ...  https://app.powerbi.com/view?r=eyJrIjoiYTkyM2V...\n",
              "4      Afghanistan  ...  https://app.powerbi.com/view?r=eyJrIjoiYTkyM2V...\n",
              "...            ...  ...                                                ...\n",
              "43140     Zimbabwe  ...  https://www.arcgis.com/home/webmap/viewer.html...\n",
              "43141     Zimbabwe  ...  https://www.arcgis.com/home/webmap/viewer.html...\n",
              "43142     Zimbabwe  ...  https://www.arcgis.com/home/webmap/viewer.html...\n",
              "43143     Zimbabwe  ...  https://www.arcgis.com/home/webmap/viewer.html...\n",
              "43144     Zimbabwe  ...  https://www.arcgis.com/home/webmap/viewer.html...\n",
              "\n",
              "[43145 rows x 15 columns]"
            ]
          },
          "metadata": {},
          "execution_count": 3
        }
      ]
    },
    {
      "cell_type": "code",
      "metadata": {
        "colab": {
          "base_uri": "https://localhost:8080/"
        },
        "id": "oleP9ajQbgv-",
        "outputId": "e43cebbd-881e-4a46-96fa-bf13ffff6b8a"
      },
      "source": [
        "original_df.columns"
      ],
      "id": "oleP9ajQbgv-",
      "execution_count": 4,
      "outputs": [
        {
          "output_type": "execute_result",
          "data": {
            "text/plain": [
              "Index(['country', 'iso_code', 'date', 'total_vaccinations',\n",
              "       'people_vaccinated', 'people_fully_vaccinated',\n",
              "       'daily_vaccinations_raw', 'daily_vaccinations',\n",
              "       'total_vaccinations_per_hundred', 'people_vaccinated_per_hundred',\n",
              "       'people_fully_vaccinated_per_hundred', 'daily_vaccinations_per_million',\n",
              "       'vaccines', 'source_name', 'source_website'],\n",
              "      dtype='object')"
            ]
          },
          "metadata": {},
          "execution_count": 4
        }
      ]
    },
    {
      "cell_type": "code",
      "metadata": {
        "colab": {
          "base_uri": "https://localhost:8080/"
        },
        "id": "kS6mSoXGblAQ",
        "outputId": "1c40999a-68af-42d2-9c2d-b2be96bceef3"
      },
      "source": [
        "original_df.shape"
      ],
      "id": "kS6mSoXGblAQ",
      "execution_count": 5,
      "outputs": [
        {
          "output_type": "execute_result",
          "data": {
            "text/plain": [
              "(43145, 15)"
            ]
          },
          "metadata": {},
          "execution_count": 5
        }
      ]
    },
    {
      "cell_type": "markdown",
      "metadata": {
        "id": "hMH1WVYBcMpK"
      },
      "source": [
        "### Dados que serão utilizados"
      ],
      "id": "hMH1WVYBcMpK"
    },
    {
      "cell_type": "markdown",
      "metadata": {
        "id": "Y5hT2FFabsW1"
      },
      "source": [
        "Como estamos em tutorial de introdução à predição de séries temporais, vamos trabalhar com esses dados de uma maneira menor. Vamos trabalhar apenas com as coletas de vacinação diária do Brasil a partir da data em que o total de vacinações no Brasil é maior que zero."
      ],
      "id": "Y5hT2FFabsW1"
    },
    {
      "cell_type": "code",
      "metadata": {
        "colab": {
          "base_uri": "https://localhost:8080/",
          "height": 450
        },
        "id": "MPOSsnIfcUO8",
        "outputId": "cd64c2aa-004d-4fe8-b1e2-cc4bcbd724cc"
      },
      "source": [
        "df = pd.read_csv('/content/drive/MyDrive/tutoriais/df.csv', index_col='date')\n",
        "df.index = pd.DatetimeIndex(df.index).to_period('D')\n",
        "df"
      ],
      "id": "MPOSsnIfcUO8",
      "execution_count": 6,
      "outputs": [
        {
          "output_type": "execute_result",
          "data": {
            "text/html": [
              "<div>\n",
              "<style scoped>\n",
              "    .dataframe tbody tr th:only-of-type {\n",
              "        vertical-align: middle;\n",
              "    }\n",
              "\n",
              "    .dataframe tbody tr th {\n",
              "        vertical-align: top;\n",
              "    }\n",
              "\n",
              "    .dataframe thead th {\n",
              "        text-align: right;\n",
              "    }\n",
              "</style>\n",
              "<table border=\"1\" class=\"dataframe\">\n",
              "  <thead>\n",
              "    <tr style=\"text-align: right;\">\n",
              "      <th></th>\n",
              "      <th>daily_vaccinations</th>\n",
              "    </tr>\n",
              "    <tr>\n",
              "      <th>date</th>\n",
              "      <th></th>\n",
              "    </tr>\n",
              "  </thead>\n",
              "  <tbody>\n",
              "    <tr>\n",
              "      <th>2021-01-17</th>\n",
              "      <td>112</td>\n",
              "    </tr>\n",
              "    <tr>\n",
              "      <th>2021-01-18</th>\n",
              "      <td>554</td>\n",
              "    </tr>\n",
              "    <tr>\n",
              "      <th>2021-01-19</th>\n",
              "      <td>3823</td>\n",
              "    </tr>\n",
              "    <tr>\n",
              "      <th>2021-01-20</th>\n",
              "      <td>7136</td>\n",
              "    </tr>\n",
              "    <tr>\n",
              "      <th>2021-01-21</th>\n",
              "      <td>27304</td>\n",
              "    </tr>\n",
              "    <tr>\n",
              "      <th>...</th>\n",
              "      <td>...</td>\n",
              "    </tr>\n",
              "    <tr>\n",
              "      <th>2021-07-08</th>\n",
              "      <td>1242514</td>\n",
              "    </tr>\n",
              "    <tr>\n",
              "      <th>2021-07-09</th>\n",
              "      <td>1307672</td>\n",
              "    </tr>\n",
              "    <tr>\n",
              "      <th>2021-07-11</th>\n",
              "      <td>1307796</td>\n",
              "    </tr>\n",
              "    <tr>\n",
              "      <th>2021-07-12</th>\n",
              "      <td>1274707</td>\n",
              "    </tr>\n",
              "    <tr>\n",
              "      <th>2021-07-13</th>\n",
              "      <td>1339579</td>\n",
              "    </tr>\n",
              "  </tbody>\n",
              "</table>\n",
              "<p>154 rows × 1 columns</p>\n",
              "</div>"
            ],
            "text/plain": [
              "            daily_vaccinations\n",
              "date                          \n",
              "2021-01-17                 112\n",
              "2021-01-18                 554\n",
              "2021-01-19                3823\n",
              "2021-01-20                7136\n",
              "2021-01-21               27304\n",
              "...                        ...\n",
              "2021-07-08             1242514\n",
              "2021-07-09             1307672\n",
              "2021-07-11             1307796\n",
              "2021-07-12             1274707\n",
              "2021-07-13             1339579\n",
              "\n",
              "[154 rows x 1 columns]"
            ]
          },
          "metadata": {},
          "execution_count": 6
        }
      ]
    },
    {
      "cell_type": "markdown",
      "metadata": {
        "id": "1LLTHMpZc3t7"
      },
      "source": [
        "### Identificando padrões"
      ],
      "id": "1LLTHMpZc3t7"
    },
    {
      "cell_type": "code",
      "metadata": {
        "colab": {
          "base_uri": "https://localhost:8080/",
          "height": 297
        },
        "id": "5dOlmDCBc7ev",
        "outputId": "5d348a5a-906e-4e9d-cf60-1ddd00bb3d95"
      },
      "source": [
        "decompose = seasonal_decompose(df, freq = 1)\n",
        "\n",
        "decompose.plot();"
      ],
      "id": "5dOlmDCBc7ev",
      "execution_count": 7,
      "outputs": [
        {
          "output_type": "display_data",
          "data": {
            "image/png": "[encoded data removed]",
            "text/plain": [
              "<Figure size 432x288 with 4 Axes>"
            ]
          },
          "metadata": {
            "needs_background": "light"
          }
        }
      ]
    },
    {
      "cell_type": "markdown",
      "metadata": {
        "id": "pck12xbNdXk6"
      },
      "source": [
        "Já podemos fazer predição utilizando a série? **Não!**<br>\n",
        "Para construir um modelo de série temporal é necessário que a série seja estacionária. Em casos que a série não é estacionária, a primeira coisa que devemos fazer é torna-la estacionária, em seguida, tentar modelos estocásticos para prever essa série temporal."
      ],
      "id": "pck12xbNdXk6"
    },
    {
      "cell_type": "markdown",
      "metadata": {
        "id": "TwAhVN5Od0qw"
      },
      "source": [
        "### Série estacionária\n",
        "Uma série é estacionária quando suas propriedades estatísticas permanecem constantes. Mais especificamente, uma série é estacionária se satisfazer as seguintes condições.\n",
        "\n",
        "\n",
        "1.   A média da série não deve ser uma função do tempo, mas sim uma constante.\n",
        "2.   A variação da série não deve ser função do tempo.\n",
        "3.   A covariância do i ésimo termo e do (i + m) ésimo termo não deve ser função do tempo. \n",
        "\n",
        "### Como saber se a série é estacionária?\n",
        "Usando o **teste de Dickey-Fuller**! Este é um teste do tipo Hipótese de Raiz Unitária no qual ele tenta determinar o quão forte a série temporal é definida por uma tendência.\n",
        "\n",
        "Basicamente vamos ter uma tabela que apresentará o que chamamos de valor critico, que é uma espécie de valor de corte. Em nosso exemplo são exibidos níveis de 1%, 5% e 10%. Se o resultado do ADF for menor do que o valor critico para um determinado percentual (5% no nosso caso) e o p-value for significante (menor que 0.05), a série é considerada estacionária. Do contrário a série é não estacionária.\n",
        "\n"
      ],
      "id": "TwAhVN5Od0qw"
    },
    {
      "cell_type": "code",
      "metadata": {
        "id": "W_-vzPgdfb7B"
      },
      "source": [
        "from statsmodels.tsa.stattools import adfuller"
      ],
      "id": "W_-vzPgdfb7B",
      "execution_count": 8,
      "outputs": []
    },
    {
      "cell_type": "code",
      "metadata": {
        "colab": {
          "base_uri": "https://localhost:8080/"
        },
        "id": "WFvxgRLDfiOl",
        "outputId": "53008bef-9f48-47e3-e96d-f776842ae15c"
      },
      "source": [
        "resultados = adfuller(df.daily_vaccinations)\n",
        "resultados"
      ],
      "id": "WFvxgRLDfiOl",
      "execution_count": 9,
      "outputs": [
        {
          "output_type": "execute_result",
          "data": {
            "text/plain": [
              "(-1.354481576381638,\n",
              " 0.6038934121448093,\n",
              " 0,\n",
              " 153,\n",
              " {'1%': -3.473829775724492,\n",
              "  '10%': -2.5769448985432954,\n",
              "  '5%': -2.880622899711496},\n",
              " 3610.4031419280886)"
            ]
          },
          "metadata": {},
          "execution_count": 9
        }
      ]
    },
    {
      "cell_type": "code",
      "metadata": {
        "colab": {
          "base_uri": "https://localhost:8080/"
        },
        "id": "ng69h8TzgHky",
        "outputId": "021c5982-97d5-4da6-e579-1ae2fec6eef4"
      },
      "source": [
        "output = pd.Series(resultados[0:4], index=['Estatística do teste','p-value','O critério de informação maximizado ','Número de observações usadas'])\n",
        "output"
      ],
      "id": "ng69h8TzgHky",
      "execution_count": 10,
      "outputs": [
        {
          "output_type": "execute_result",
          "data": {
            "text/plain": [
              "Estatística do teste                     -1.354482\n",
              "p-value                                   0.603893\n",
              "O critério de informação maximizado       0.000000\n",
              "Número de observações usadas            153.000000\n",
              "dtype: float64"
            ]
          },
          "metadata": {},
          "execution_count": 10
        }
      ]
    },
    {
      "cell_type": "markdown",
      "metadata": {
        "id": "jNFnhF7efY_T"
      },
      "source": [
        "Com as condições que temos sobre uma série ser estacionária, vamos criar uma função simples que verifica isso para gente."
      ],
      "id": "jNFnhF7efY_T"
    },
    {
      "cell_type": "code",
      "metadata": {
        "id": "naFd2FjUgd0J"
      },
      "source": [
        "def ehEstacionaria(timeseries):\n",
        "    dftest = adfuller(timeseries, autolag='AIC')\n",
        "    dfoutput = pd.Series(dftest[0:4], index=['Estatística do teste','p-value','O critério de informação maximizado ','Número de observações usadas'])\n",
        "    for key,value in dftest[4].items():\n",
        "        dfoutput['Valor crítico (%s)'%key] = value\n",
        "    \n",
        "    if(dfoutput['Estatística do teste'] < dfoutput['Valor crítico (5%)'] and dfoutput['p-value'] < 0.05):\n",
        "        print('É estacionária.')\n",
        "    else:\n",
        "        print('Não é estacionária.')"
      ],
      "id": "naFd2FjUgd0J",
      "execution_count": 11,
      "outputs": []
    },
    {
      "cell_type": "code",
      "metadata": {
        "colab": {
          "base_uri": "https://localhost:8080/"
        },
        "id": "HAsPw-hhgjch",
        "outputId": "cb2a49c5-da0a-43e6-8e74-70b8e9947a54"
      },
      "source": [
        "ehEstacionaria(df.daily_vaccinations)"
      ],
      "id": "HAsPw-hhgjch",
      "execution_count": 12,
      "outputs": [
        {
          "output_type": "stream",
          "name": "stdout",
          "text": [
            "Não é estacionária.\n"
          ]
        }
      ]
    },
    {
      "cell_type": "markdown",
      "metadata": {
        "id": "M50THenNgv2-"
      },
      "source": [
        "### Como tornar a série estacionária?\n",
        "As técnicas usadas para conseguir uma série estacionária, são, transformações (logarítmica, a raiz quadrada, boxcox), diferenciação, etc. Vamos começar com o método da diferenciação. Esse processo cria uma nova série a partir da diferença de uma observação com a observação anterior.\n",
        "\n",
        "Através da diferenciação também é possível remover a dependência temporal de uma série, reduzindo a tendência e a sazonalidade. Por esse motivo esse método pode ser usado para atingir a estacionariedade. Pode-se diferenciar uma série mais de uma vez, caso seja necessário para remover a dependência."
      ],
      "id": "M50THenNgv2-"
    },
    {
      "cell_type": "code",
      "metadata": {
        "colab": {
          "base_uri": "https://localhost:8080/",
          "height": 307
        },
        "id": "ce7ulDsfg7HF",
        "outputId": "3a296efd-168c-40b0-b365-ef9764ac3ac2"
      },
      "source": [
        "dfdiff = df.daily_vaccinations.diff()\n",
        "dfdiff = dfdiff.dropna()\n",
        "plt.title(\"Primeira diferenciação\")\n",
        "dfdiff.plot()\n",
        "plt.show()"
      ],
      "id": "ce7ulDsfg7HF",
      "execution_count": 13,
      "outputs": [
        {
          "output_type": "display_data",
          "data": {
            "image/png": "[encoded data removed]",
            "text/plain": [
              "<Figure size 432x288 with 1 Axes>"
            ]
          },
          "metadata": {
            "needs_background": "light"
          }
        }
      ]
    },
    {
      "cell_type": "code",
      "metadata": {
        "colab": {
          "base_uri": "https://localhost:8080/"
        },
        "id": "QLLvIB9ihJ59",
        "outputId": "7a304da1-fd2c-4935-e273-4cb4b6819d46"
      },
      "source": [
        "ehEstacionaria(dfdiff)"
      ],
      "id": "QLLvIB9ihJ59",
      "execution_count": 14,
      "outputs": [
        {
          "output_type": "stream",
          "name": "stdout",
          "text": [
            "É estacionária.\n"
          ]
        }
      ]
    },
    {
      "cell_type": "markdown",
      "metadata": {
        "id": "8c250058"
      },
      "source": [
        "### Aplicação prática utilizando o ARIMA\n",
        "\n",
        "Média Móvel Integrada Autoregressiva (ARIMA)\n",
        "\n",
        "O modelo ARIMA(AutoRegressive Integrated Moving Average model) utiliza métodos de diferenciação para tornar a série temporal em estacionária(as propriedades estatísticas são constantes), aplica modelos de autoregressão e média móvel. Ou seja, o modelo que é estacionário, sua média, variância e autocovariância são invariáveis em relação ao tempo. **O método é adequado para séries temporais univariadas com tendência e sem componentes sazonais.**\n",
        "\n",
        "**Parâmetros**<br>\n",
        "Na função ARIMA do python, passamos três parâmetros, sendo eles: <br>\n",
        "p: é a ordem do modelo autoregressivo; Mais especificamente é quantidade de lags(quantidade de valores correlacionados)<br>\n",
        "d: o número de vezes que as observações serão diferenciadas.<br>\n",
        "q: é a ordem do modelo de média móvel.\n",
        "\n",
        "\n",
        "## Mãos na massa"
      ],
      "id": "8c250058"
    },
    {
      "cell_type": "code",
      "metadata": {
        "id": "4d528b8e"
      },
      "source": [
        "from statsmodels.tsa.arima_model import ARIMA\n",
        "import random\n",
        "from sklearn.metrics import mean_absolute_error as mae"
      ],
      "id": "4d528b8e",
      "execution_count": 15,
      "outputs": []
    },
    {
      "cell_type": "markdown",
      "metadata": {
        "id": "Y6if-brSk0HB"
      },
      "source": [
        "Inicialmente, escolheremos quais serão nossos dados de treino e teste. Vamos treinar com 15 dias consecutivos para tentar descobrir o valor do dia seguinte. A escolha da data acontecerá aleatoriamente, mas se você preferir, você pode seleionar a dedo."
      ],
      "id": "Y6if-brSk0HB"
    },
    {
      "cell_type": "code",
      "metadata": {
        "id": "ECWmLJHlleHa"
      },
      "source": [
        "X = df['daily_vaccinations'].values\n",
        "len_days = 15\n",
        "days_predict = len_days + 1"
      ],
      "id": "ECWmLJHlleHa",
      "execution_count": 16,
      "outputs": []
    },
    {
      "cell_type": "code",
      "metadata": {
        "colab": {
          "base_uri": "https://localhost:8080/"
        },
        "id": "tv-Fd6p0lpqN",
        "outputId": "c0970f3a-a7f7-4c99-c54c-3660857507b1"
      },
      "source": [
        "#Separar os dados em treino e teste.\n",
        "check = False\n",
        "drawn_number = -1\n",
        "while (check == False):\n",
        "  drawn_number = random.randrange(0,len(df)-1)\n",
        "  if (drawn_number+len_days) <= (len(df)-1):\n",
        "    check = True\n",
        "drawn_number"
      ],
      "id": "tv-Fd6p0lpqN",
      "execution_count": 17,
      "outputs": [
        {
          "output_type": "execute_result",
          "data": {
            "text/plain": [
              "108"
            ]
          },
          "metadata": {},
          "execution_count": 17
        }
      ]
    },
    {
      "cell_type": "code",
      "metadata": {
        "id": "8bbj-lb8mlrp"
      },
      "source": [
        "train = X[drawn_number:drawn_number+len_days]"
      ],
      "id": "8bbj-lb8mlrp",
      "execution_count": 18,
      "outputs": []
    },
    {
      "cell_type": "code",
      "metadata": {
        "colab": {
          "base_uri": "https://localhost:8080/"
        },
        "id": "RQdKWLvYmrfu",
        "outputId": "ffebf292-69b9-487c-900f-7ca4342fcc4c"
      },
      "source": [
        "train.size"
      ],
      "id": "RQdKWLvYmrfu",
      "execution_count": 19,
      "outputs": [
        {
          "output_type": "execute_result",
          "data": {
            "text/plain": [
              "15"
            ]
          },
          "metadata": {},
          "execution_count": 19
        }
      ]
    },
    {
      "cell_type": "code",
      "metadata": {
        "colab": {
          "base_uri": "https://localhost:8080/"
        },
        "id": "FsYWWX3b2JCP",
        "outputId": "52331c67-f12e-4344-e8f4-6c7bef2b19d1"
      },
      "source": [
        "train"
      ],
      "id": "FsYWWX3b2JCP",
      "execution_count": 20,
      "outputs": [
        {
          "output_type": "execute_result",
          "data": {
            "text/plain": [
              "array([ 795659,  894140,  876967,  844329,  807435, 1344045, 1352814,\n",
              "       1329775, 1273730, 1123150,  922807,  756893,  643380,  621607,\n",
              "        723103])"
            ]
          },
          "metadata": {},
          "execution_count": 20
        }
      ]
    },
    {
      "cell_type": "code",
      "metadata": {
        "id": "LtvqFrnA2LCA"
      },
      "source": [
        "test = X[drawn_number+len_days:drawn_number+days_predict]"
      ],
      "id": "LtvqFrnA2LCA",
      "execution_count": 21,
      "outputs": []
    },
    {
      "cell_type": "code",
      "metadata": {
        "colab": {
          "base_uri": "https://localhost:8080/"
        },
        "id": "PgN2UrK_2XSk",
        "outputId": "f630c05a-e70f-4a17-fc42-9cdf9bc0ffac"
      },
      "source": [
        "test"
      ],
      "id": "PgN2UrK_2XSk",
      "execution_count": 22,
      "outputs": [
        {
          "output_type": "execute_result",
          "data": {
            "text/plain": [
              "array([615884])"
            ]
          },
          "metadata": {},
          "execution_count": 22
        }
      ]
    },
    {
      "cell_type": "code",
      "metadata": {
        "colab": {
          "base_uri": "https://localhost:8080/"
        },
        "id": "exv9c9pSkIej",
        "outputId": "95477774-74cd-4a91-f1fa-bbde3594e361"
      },
      "source": [
        "model = ARIMA(train, order=(10,1,1))\n",
        "\n",
        "# treina o modelo ARIMA\n",
        "model_fit = model.fit()"
      ],
      "id": "exv9c9pSkIej",
      "execution_count": 23,
      "outputs": [
        {
          "output_type": "stream",
          "name": "stderr",
          "text": [
            "/usr/local/lib/python3.7/dist-packages/statsmodels/base/model.py:492: HessianInversionWarning: Inverting hessian failed, no bse or cov_params available\n",
            "  'available', HessianInversionWarning)\n",
            "/usr/local/lib/python3.7/dist-packages/statsmodels/base/model.py:512: ConvergenceWarning: Maximum Likelihood optimization failed to converge. Check mle_retvals\n",
            "  \"Check mle_retvals\", ConvergenceWarning)\n"
          ]
        }
      ]
    },
    {
      "cell_type": "code",
      "metadata": {
        "colab": {
          "base_uri": "https://localhost:8080/"
        },
        "id": "pohbUU47aucj",
        "outputId": "c3539fa0-52e4-46fb-bb37-d782ab4a323f"
      },
      "source": [
        "valor_predito = model_fit.forecast()[0]\n",
        "valor_predito"
      ],
      "id": "pohbUU47aucj",
      "execution_count": 24,
      "outputs": [
        {
          "output_type": "execute_result",
          "data": {
            "text/plain": [
              "array([1200018.75784288])"
            ]
          },
          "metadata": {},
          "execution_count": 24
        }
      ]
    },
    {
      "cell_type": "code",
      "metadata": {
        "colab": {
          "base_uri": "https://localhost:8080/"
        },
        "id": "hA7RiuEfZzIK",
        "outputId": "80808249-f726-445f-bd52-22b74bc0a411"
      },
      "source": [
        "print(test, valor_predito)"
      ],
      "id": "hA7RiuEfZzIK",
      "execution_count": 25,
      "outputs": [
        {
          "output_type": "stream",
          "name": "stdout",
          "text": [
            "[615884] [1200018.75784288]\n"
          ]
        }
      ]
    },
    {
      "cell_type": "markdown",
      "metadata": {
        "id": "5Qt9XNy4qFTZ"
      },
      "source": [
        "### Análise do modelo\n",
        "Podemos analisar o modelo aplicando a função mean_absolute_error e passando como parâmetro o valor real e o valor predito."
      ],
      "id": "5Qt9XNy4qFTZ"
    },
    {
      "cell_type": "code",
      "metadata": {
        "colab": {
          "base_uri": "https://localhost:8080/"
        },
        "id": "jssitW1Tpbwk",
        "outputId": "ec240455-d769-498e-8762-a71138db959c"
      },
      "source": [
        "mae([test], valor_predito)"
      ],
      "id": "jssitW1Tpbwk",
      "execution_count": 26,
      "outputs": [
        {
          "output_type": "execute_result",
          "data": {
            "text/plain": [
              "584134.7578428779"
            ]
          },
          "metadata": {},
          "execution_count": 26
        }
      ]
    },
    {
      "cell_type": "markdown",
      "metadata": {
        "id": "a7e67850"
      },
      "source": [
        "## Referências\n",
        "\n",
        "[Dicas para criar um modelo de previsão de séries temporais](https://medium.com/techbloghotmart/dicas-para-criar-um-modelo-de-previs%C3%A3o-de-s%C3%A9ries-temporais-d4bb2e32e148)\n",
        "\n",
        "[Modelos ARIMA](http://sillasgonzaga.com/material/curso_series_temporais/arima.html)\n",
        "\n",
        "[Prevendo Vendas com ARIMA - Passo a Passo com Python](https://www.youtube.com/watch?v=v7rZpT8NCbk)\n",
        "\n",
        "\n",
        "\n"
      ],
      "id": "a7e67850"
    }
  ]
}