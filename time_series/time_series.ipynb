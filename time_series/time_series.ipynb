{
 "cells": [
  {
   "cell_type": "markdown",
   "id": "2c71db5b",
   "metadata": {},
   "source": [
    "# Introdução à séries temporais(time series)\n",
    "\n",
    "#### Para acessar o material em vídeo no Youtube: [Introdução à séries temporais](https://youtu.be/Spg1XND1lpE)\n",
    "\n",
    "## Definição\n",
    "\n",
    "Séries temporais são dados coletados em intervalos regulares de tempo. Esses dados possuem dependência com a ordem e com eles podemos observar em que data esses dados decrescem ou crescem.\n",
    "Usamos séries temporais comumente para entender em que dias, meses ou anos, os valores são alterados e porque são alterados. Por exemplo, em uma sorveteria podemos analisar em que dias da semana as vendas são maiores, em quais meses as vendas aumentam e a partir disso podemos inferir informações, como que, os sorvetes vendem mais no verão.\n",
    "\n",
    "## Padrões\n",
    "\n",
    "Em séries temporais podemos extrair padrões, esses padrões são:<br>\n",
    "**Sazonalidade:** Padrão que se repete.<br>\n",
    "Exemplo: Em um terminal de ônibus durante a semana, a circulação de pessoas é maior às 19h da noite, que é o horário em que trabalhadores estão saindo do serviço.<br>\n",
    "\n",
    "**Ciclos:** Padrões que ocorrem eventualmente.<br>\n",
    "Exemplo: No mesmo mesmo terminal de ônibus, em um feriado na semana, a circulação de pessoas decresce às 19h<br>\n",
    "\n",
    "**Tendência:** Nos ajuda a visualizar e entender qual a tendência dos nosso dados, se eles crescem no decorrer do tempo ou decrescem.\n",
    "Exemplo: Em julho a circulação de pessoas aumentam no terminal, porque muitas pessoas estão de férias, então saem mais. Ou seja, em julho, nossos dados tendem positivamente.\n",
    "\n",
    "**Ruídos:** São os dados que não se incluem nos padrões.\n",
    "\n",
    "## Mãos na massa\n",
    "\n",
    "### Importações\n"
   ]
  },
  {
   "cell_type": "code",
   "execution_count": 1,
   "id": "af10d2a8",
   "metadata": {},
   "outputs": [],
   "source": [
    "import pandas as pd\n",
    "import matplotlib.pyplot as plt\n",
    "from statsmodels.tsa.seasonal import seasonal_decompose\n",
    "\n",
    "%matplotlib inline"
   ]
  },
  {
   "cell_type": "markdown",
   "id": "e00b0ab8",
   "metadata": {},
   "source": [
    "### Conhecendo a base de dados\n",
    "Nossa base de dados é extraída do [kaggle](https://www.kaggle.com/gpreda/covid-world-vaccination-progress/discussion/241619). Ela já está tratada, para operarmos somente com as séries temporais. Nela temos dois atributos, date(data da coleta) e daily_vaccinations(quantidade de vacinas aplicadas naquele dia)."
   ]
  },
  {
   "cell_type": "code",
   "execution_count": 2,
   "id": "f204af65",
   "metadata": {},
   "outputs": [
    {
     "data": {
      "text/html": [
       "<div>\n",
       "<style scoped>\n",
       "    .dataframe tbody tr th:only-of-type {\n",
       "        vertical-align: middle;\n",
       "    }\n",
       "\n",
       "    .dataframe tbody tr th {\n",
       "        vertical-align: top;\n",
       "    }\n",
       "\n",
       "    .dataframe thead th {\n",
       "        text-align: right;\n",
       "    }\n",
       "</style>\n",
       "<table border=\"1\" class=\"dataframe\">\n",
       "  <thead>\n",
       "    <tr style=\"text-align: right;\">\n",
       "      <th></th>\n",
       "      <th>Unnamed: 0</th>\n",
       "      <th>date</th>\n",
       "      <th>daily_vaccinations</th>\n",
       "    </tr>\n",
       "  </thead>\n",
       "  <tbody>\n",
       "    <tr>\n",
       "      <th>0</th>\n",
       "      <td>0</td>\n",
       "      <td>2021-01-17</td>\n",
       "      <td>112</td>\n",
       "    </tr>\n",
       "    <tr>\n",
       "      <th>1</th>\n",
       "      <td>1</td>\n",
       "      <td>2021-01-18</td>\n",
       "      <td>554</td>\n",
       "    </tr>\n",
       "    <tr>\n",
       "      <th>2</th>\n",
       "      <td>2</td>\n",
       "      <td>2021-01-19</td>\n",
       "      <td>3823</td>\n",
       "    </tr>\n",
       "    <tr>\n",
       "      <th>3</th>\n",
       "      <td>3</td>\n",
       "      <td>2021-01-20</td>\n",
       "      <td>7136</td>\n",
       "    </tr>\n",
       "    <tr>\n",
       "      <th>4</th>\n",
       "      <td>4</td>\n",
       "      <td>2021-01-21</td>\n",
       "      <td>27304</td>\n",
       "    </tr>\n",
       "  </tbody>\n",
       "</table>\n",
       "</div>"
      ],
      "text/plain": [
       "   Unnamed: 0        date  daily_vaccinations\n",
       "0           0  2021-01-17                 112\n",
       "1           1  2021-01-18                 554\n",
       "2           2  2021-01-19                3823\n",
       "3           3  2021-01-20                7136\n",
       "4           4  2021-01-21               27304"
      ]
     },
     "execution_count": 2,
     "metadata": {},
     "output_type": "execute_result"
    }
   ],
   "source": [
    "df = pd.read_csv('progresso-brasil.csv')\n",
    "df.head()"
   ]
  },
  {
   "cell_type": "code",
   "execution_count": 3,
   "id": "c399fe1e",
   "metadata": {},
   "outputs": [
    {
     "data": {
      "text/html": [
       "<div>\n",
       "<style scoped>\n",
       "    .dataframe tbody tr th:only-of-type {\n",
       "        vertical-align: middle;\n",
       "    }\n",
       "\n",
       "    .dataframe tbody tr th {\n",
       "        vertical-align: top;\n",
       "    }\n",
       "\n",
       "    .dataframe thead th {\n",
       "        text-align: right;\n",
       "    }\n",
       "</style>\n",
       "<table border=\"1\" class=\"dataframe\">\n",
       "  <thead>\n",
       "    <tr style=\"text-align: right;\">\n",
       "      <th></th>\n",
       "      <th>date</th>\n",
       "      <th>daily_vaccinations</th>\n",
       "    </tr>\n",
       "  </thead>\n",
       "  <tbody>\n",
       "    <tr>\n",
       "      <th>0</th>\n",
       "      <td>2021-01-17</td>\n",
       "      <td>112</td>\n",
       "    </tr>\n",
       "    <tr>\n",
       "      <th>1</th>\n",
       "      <td>2021-01-18</td>\n",
       "      <td>554</td>\n",
       "    </tr>\n",
       "    <tr>\n",
       "      <th>2</th>\n",
       "      <td>2021-01-19</td>\n",
       "      <td>3823</td>\n",
       "    </tr>\n",
       "    <tr>\n",
       "      <th>3</th>\n",
       "      <td>2021-01-20</td>\n",
       "      <td>7136</td>\n",
       "    </tr>\n",
       "    <tr>\n",
       "      <th>4</th>\n",
       "      <td>2021-01-21</td>\n",
       "      <td>27304</td>\n",
       "    </tr>\n",
       "  </tbody>\n",
       "</table>\n",
       "</div>"
      ],
      "text/plain": [
       "         date  daily_vaccinations\n",
       "0  2021-01-17                 112\n",
       "1  2021-01-18                 554\n",
       "2  2021-01-19                3823\n",
       "3  2021-01-20                7136\n",
       "4  2021-01-21               27304"
      ]
     },
     "execution_count": 3,
     "metadata": {},
     "output_type": "execute_result"
    }
   ],
   "source": [
    "df = df.iloc[:,1:]\n",
    "df.head()"
   ]
  },
  {
   "cell_type": "markdown",
   "id": "c719a2d0",
   "metadata": {},
   "source": [
    "Vamos verificar os tipos dos nossos dados."
   ]
  },
  {
   "cell_type": "code",
   "execution_count": 4,
   "id": "5bf141c8",
   "metadata": {},
   "outputs": [
    {
     "data": {
      "text/plain": [
       "date                  object\n",
       "daily_vaccinations     int64\n",
       "dtype: object"
      ]
     },
     "execution_count": 4,
     "metadata": {},
     "output_type": "execute_result"
    }
   ],
   "source": [
    "df.dtypes"
   ]
  },
  {
   "cell_type": "markdown",
   "id": "3afeadba",
   "metadata": {},
   "source": [
    "Vamos alterar o tipo do atributo date para poder usá-lo."
   ]
  },
  {
   "cell_type": "code",
   "execution_count": 5,
   "id": "2c89429a",
   "metadata": {},
   "outputs": [
    {
     "data": {
      "text/plain": [
       "date                  datetime64[ns]\n",
       "daily_vaccinations             int64\n",
       "dtype: object"
      ]
     },
     "execution_count": 5,
     "metadata": {},
     "output_type": "execute_result"
    }
   ],
   "source": [
    "df.date = pd.to_datetime(df.date)\n",
    "df.dtypes"
   ]
  },
  {
   "cell_type": "markdown",
   "id": "0feb4d5e",
   "metadata": {},
   "source": [
    "### Visualizando o comportamento dos dados"
   ]
  },
  {
   "cell_type": "markdown",
   "id": "208b86e4",
   "metadata": {},
   "source": [
    "Vamos tornar a data, o índice do nosso dataframe."
   ]
  },
  {
   "cell_type": "code",
   "execution_count": 6,
   "id": "c9988c41",
   "metadata": {},
   "outputs": [
    {
     "data": {
      "text/html": [
       "<div>\n",
       "<style scoped>\n",
       "    .dataframe tbody tr th:only-of-type {\n",
       "        vertical-align: middle;\n",
       "    }\n",
       "\n",
       "    .dataframe tbody tr th {\n",
       "        vertical-align: top;\n",
       "    }\n",
       "\n",
       "    .dataframe thead th {\n",
       "        text-align: right;\n",
       "    }\n",
       "</style>\n",
       "<table border=\"1\" class=\"dataframe\">\n",
       "  <thead>\n",
       "    <tr style=\"text-align: right;\">\n",
       "      <th></th>\n",
       "      <th>daily_vaccinations</th>\n",
       "    </tr>\n",
       "    <tr>\n",
       "      <th>date</th>\n",
       "      <th></th>\n",
       "    </tr>\n",
       "  </thead>\n",
       "  <tbody>\n",
       "    <tr>\n",
       "      <th>2021-01-17</th>\n",
       "      <td>112</td>\n",
       "    </tr>\n",
       "    <tr>\n",
       "      <th>2021-01-18</th>\n",
       "      <td>554</td>\n",
       "    </tr>\n",
       "    <tr>\n",
       "      <th>2021-01-19</th>\n",
       "      <td>3823</td>\n",
       "    </tr>\n",
       "    <tr>\n",
       "      <th>2021-01-20</th>\n",
       "      <td>7136</td>\n",
       "    </tr>\n",
       "    <tr>\n",
       "      <th>2021-01-21</th>\n",
       "      <td>27304</td>\n",
       "    </tr>\n",
       "    <tr>\n",
       "      <th>...</th>\n",
       "      <td>...</td>\n",
       "    </tr>\n",
       "    <tr>\n",
       "      <th>2021-07-08</th>\n",
       "      <td>1242514</td>\n",
       "    </tr>\n",
       "    <tr>\n",
       "      <th>2021-07-09</th>\n",
       "      <td>1307672</td>\n",
       "    </tr>\n",
       "    <tr>\n",
       "      <th>2021-07-11</th>\n",
       "      <td>1307796</td>\n",
       "    </tr>\n",
       "    <tr>\n",
       "      <th>2021-07-12</th>\n",
       "      <td>1274707</td>\n",
       "    </tr>\n",
       "    <tr>\n",
       "      <th>2021-07-13</th>\n",
       "      <td>1339579</td>\n",
       "    </tr>\n",
       "  </tbody>\n",
       "</table>\n",
       "<p>154 rows × 1 columns</p>\n",
       "</div>"
      ],
      "text/plain": [
       "            daily_vaccinations\n",
       "date                          \n",
       "2021-01-17                 112\n",
       "2021-01-18                 554\n",
       "2021-01-19                3823\n",
       "2021-01-20                7136\n",
       "2021-01-21               27304\n",
       "...                        ...\n",
       "2021-07-08             1242514\n",
       "2021-07-09             1307672\n",
       "2021-07-11             1307796\n",
       "2021-07-12             1274707\n",
       "2021-07-13             1339579\n",
       "\n",
       "[154 rows x 1 columns]"
      ]
     },
     "execution_count": 6,
     "metadata": {},
     "output_type": "execute_result"
    }
   ],
   "source": [
    "df.set_index('date',inplace=True)\n",
    "df"
   ]
  },
  {
   "cell_type": "markdown",
   "id": "863ca197",
   "metadata": {},
   "source": [
    "**Agora, podemos observar os meses em que a quantidade de vacinas aplicadas por dia descresce.**"
   ]
  },
  {
   "cell_type": "code",
   "execution_count": 7,
   "id": "5536c992",
   "metadata": {},
   "outputs": [
    {
     "data": {
      "text/plain": [
       "[<matplotlib.lines.Line2D at 0x7f87a71cb3a0>]"
      ]
     },
     "execution_count": 7,
     "metadata": {},
     "output_type": "execute_result"
    },
    {
     "data": {
      "image/png": "[encoded data removed]",
      "text/plain": [
       "<Figure size 432x288 with 1 Axes>"
      ]
     },
     "metadata": {
      "needs_background": "light"
     },
     "output_type": "display_data"
    }
   ],
   "source": [
    "plt.plot(df.index, df.daily_vaccinations)"
   ]
  },
  {
   "cell_type": "markdown",
   "id": "77d05fe6",
   "metadata": {},
   "source": [
    "#### Identificando padrões"
   ]
  },
  {
   "cell_type": "code",
   "execution_count": 8,
   "id": "a7cf023a",
   "metadata": {},
   "outputs": [
    {
     "data": {
      "image/png": "[encoded data removed]",
      "text/plain": [
       "<Figure size 432x288 with 4 Axes>"
      ]
     },
     "metadata": {
      "needs_background": "light"
     },
     "output_type": "display_data"
    }
   ],
   "source": [
    "decompose = seasonal_decompose(df, period=1)\n",
    "\n",
    "decompose.plot();"
   ]
  },
  {
   "cell_type": "code",
   "execution_count": 9,
   "id": "0d576d61",
   "metadata": {},
   "outputs": [
    {
     "data": {
      "image/png": "[encoded data removed]",
      "text/plain": [
       "<Figure size 864x576 with 4 Axes>"
      ]
     },
     "metadata": {
      "needs_background": "light"
     },
     "output_type": "display_data"
    }
   ],
   "source": [
    "fig, (ax1,ax2,ax3, ax4) = plt.subplots(4,1, figsize=(12,8))\n",
    "decompose.observed.plot(ax=ax1)\n",
    "decompose.trend.plot(ax=ax2)\n",
    "decompose.seasonal.plot(ax=ax3)\n",
    "decompose.resid.plot(ax=ax4)\n",
    "plt.tight_layout();"
   ]
  },
  {
   "cell_type": "markdown",
   "id": "77e2d6b0",
   "metadata": {},
   "source": [
    "### Visualizando os dados de outra forma"
   ]
  },
  {
   "cell_type": "markdown",
   "id": "10a90abd",
   "metadata": {},
   "source": [
    "Podemos enriquecer as informações que queremos extrair, substituindo a coluna date por year, month, day e day of week. Com o seguinte comando podemos extrair esses tipos de informações do atributo date. Mas para isso, precisamos do nosso dataframe inicial."
   ]
  },
  {
   "cell_type": "code",
   "execution_count": 10,
   "id": "a6a322c2",
   "metadata": {},
   "outputs": [
    {
     "data": {
      "text/html": [
       "<div>\n",
       "<style scoped>\n",
       "    .dataframe tbody tr th:only-of-type {\n",
       "        vertical-align: middle;\n",
       "    }\n",
       "\n",
       "    .dataframe tbody tr th {\n",
       "        vertical-align: top;\n",
       "    }\n",
       "\n",
       "    .dataframe thead th {\n",
       "        text-align: right;\n",
       "    }\n",
       "</style>\n",
       "<table border=\"1\" class=\"dataframe\">\n",
       "  <thead>\n",
       "    <tr style=\"text-align: right;\">\n",
       "      <th></th>\n",
       "      <th>date</th>\n",
       "      <th>daily_vaccinations</th>\n",
       "    </tr>\n",
       "  </thead>\n",
       "  <tbody>\n",
       "    <tr>\n",
       "      <th>0</th>\n",
       "      <td>2021-01-17</td>\n",
       "      <td>112</td>\n",
       "    </tr>\n",
       "    <tr>\n",
       "      <th>1</th>\n",
       "      <td>2021-01-18</td>\n",
       "      <td>554</td>\n",
       "    </tr>\n",
       "    <tr>\n",
       "      <th>2</th>\n",
       "      <td>2021-01-19</td>\n",
       "      <td>3823</td>\n",
       "    </tr>\n",
       "    <tr>\n",
       "      <th>3</th>\n",
       "      <td>2021-01-20</td>\n",
       "      <td>7136</td>\n",
       "    </tr>\n",
       "    <tr>\n",
       "      <th>4</th>\n",
       "      <td>2021-01-21</td>\n",
       "      <td>27304</td>\n",
       "    </tr>\n",
       "  </tbody>\n",
       "</table>\n",
       "</div>"
      ],
      "text/plain": [
       "        date  daily_vaccinations\n",
       "0 2021-01-17                 112\n",
       "1 2021-01-18                 554\n",
       "2 2021-01-19                3823\n",
       "3 2021-01-20                7136\n",
       "4 2021-01-21               27304"
      ]
     },
     "execution_count": 10,
     "metadata": {},
     "output_type": "execute_result"
    }
   ],
   "source": [
    "df_ = pd.read_csv('progresso-brasil.csv')\n",
    "df_ = df_.iloc[:,1:]\n",
    "df_.date = pd.to_datetime(df_.date)\n",
    "\n",
    "\n",
    "df_.head()"
   ]
  },
  {
   "cell_type": "markdown",
   "id": "30d78bc4",
   "metadata": {},
   "source": [
    "Dessa forma conseguimos separar as informações da coluna data"
   ]
  },
  {
   "cell_type": "code",
   "execution_count": 11,
   "id": "ffa52c57",
   "metadata": {},
   "outputs": [
    {
     "data": {
      "text/plain": [
       "0      2021\n",
       "1      2021\n",
       "2      2021\n",
       "3      2021\n",
       "4      2021\n",
       "       ... \n",
       "149    2021\n",
       "150    2021\n",
       "151    2021\n",
       "152    2021\n",
       "153    2021\n",
       "Name: date, Length: 154, dtype: int64"
      ]
     },
     "execution_count": 11,
     "metadata": {},
     "output_type": "execute_result"
    }
   ],
   "source": [
    "df_.date.dt.year"
   ]
  },
  {
   "cell_type": "code",
   "execution_count": 12,
   "id": "20a06b6e",
   "metadata": {},
   "outputs": [
    {
     "data": {
      "text/html": [
       "<div>\n",
       "<style scoped>\n",
       "    .dataframe tbody tr th:only-of-type {\n",
       "        vertical-align: middle;\n",
       "    }\n",
       "\n",
       "    .dataframe tbody tr th {\n",
       "        vertical-align: top;\n",
       "    }\n",
       "\n",
       "    .dataframe thead th {\n",
       "        text-align: right;\n",
       "    }\n",
       "</style>\n",
       "<table border=\"1\" class=\"dataframe\">\n",
       "  <thead>\n",
       "    <tr style=\"text-align: right;\">\n",
       "      <th></th>\n",
       "      <th>date</th>\n",
       "      <th>daily_vaccinations</th>\n",
       "      <th>year</th>\n",
       "      <th>month</th>\n",
       "      <th>day</th>\n",
       "      <th>day_of_week</th>\n",
       "    </tr>\n",
       "  </thead>\n",
       "  <tbody>\n",
       "    <tr>\n",
       "      <th>0</th>\n",
       "      <td>2021-01-17</td>\n",
       "      <td>112</td>\n",
       "      <td>2021</td>\n",
       "      <td>1</td>\n",
       "      <td>17</td>\n",
       "      <td>6</td>\n",
       "    </tr>\n",
       "    <tr>\n",
       "      <th>1</th>\n",
       "      <td>2021-01-18</td>\n",
       "      <td>554</td>\n",
       "      <td>2021</td>\n",
       "      <td>1</td>\n",
       "      <td>18</td>\n",
       "      <td>0</td>\n",
       "    </tr>\n",
       "    <tr>\n",
       "      <th>2</th>\n",
       "      <td>2021-01-19</td>\n",
       "      <td>3823</td>\n",
       "      <td>2021</td>\n",
       "      <td>1</td>\n",
       "      <td>19</td>\n",
       "      <td>1</td>\n",
       "    </tr>\n",
       "    <tr>\n",
       "      <th>3</th>\n",
       "      <td>2021-01-20</td>\n",
       "      <td>7136</td>\n",
       "      <td>2021</td>\n",
       "      <td>1</td>\n",
       "      <td>20</td>\n",
       "      <td>2</td>\n",
       "    </tr>\n",
       "    <tr>\n",
       "      <th>4</th>\n",
       "      <td>2021-01-21</td>\n",
       "      <td>27304</td>\n",
       "      <td>2021</td>\n",
       "      <td>1</td>\n",
       "      <td>21</td>\n",
       "      <td>3</td>\n",
       "    </tr>\n",
       "  </tbody>\n",
       "</table>\n",
       "</div>"
      ],
      "text/plain": [
       "        date  daily_vaccinations  year  month  day  day_of_week\n",
       "0 2021-01-17                 112  2021      1   17            6\n",
       "1 2021-01-18                 554  2021      1   18            0\n",
       "2 2021-01-19                3823  2021      1   19            1\n",
       "3 2021-01-20                7136  2021      1   20            2\n",
       "4 2021-01-21               27304  2021      1   21            3"
      ]
     },
     "execution_count": 12,
     "metadata": {},
     "output_type": "execute_result"
    }
   ],
   "source": [
    "df_['year'] = df_.date.dt.year\n",
    "df_['month'] = df_.date.dt.month\n",
    "df_['day'] = df_.date.dt.day\n",
    "df_['day_of_week'] = df_.date.dt.dayofweek\n",
    "df_.head()"
   ]
  },
  {
   "cell_type": "markdown",
   "id": "c50202e3",
   "metadata": {},
   "source": [
    "Agora não precisamos mais do atributo date, por isso vamos removê-lo."
   ]
  },
  {
   "cell_type": "code",
   "execution_count": 13,
   "id": "259da1f9",
   "metadata": {},
   "outputs": [
    {
     "data": {
      "text/html": [
       "<div>\n",
       "<style scoped>\n",
       "    .dataframe tbody tr th:only-of-type {\n",
       "        vertical-align: middle;\n",
       "    }\n",
       "\n",
       "    .dataframe tbody tr th {\n",
       "        vertical-align: top;\n",
       "    }\n",
       "\n",
       "    .dataframe thead th {\n",
       "        text-align: right;\n",
       "    }\n",
       "</style>\n",
       "<table border=\"1\" class=\"dataframe\">\n",
       "  <thead>\n",
       "    <tr style=\"text-align: right;\">\n",
       "      <th></th>\n",
       "      <th>daily_vaccinations</th>\n",
       "      <th>year</th>\n",
       "      <th>month</th>\n",
       "      <th>day</th>\n",
       "      <th>day_of_week</th>\n",
       "    </tr>\n",
       "  </thead>\n",
       "  <tbody>\n",
       "    <tr>\n",
       "      <th>0</th>\n",
       "      <td>112</td>\n",
       "      <td>2021</td>\n",
       "      <td>1</td>\n",
       "      <td>17</td>\n",
       "      <td>6</td>\n",
       "    </tr>\n",
       "    <tr>\n",
       "      <th>1</th>\n",
       "      <td>554</td>\n",
       "      <td>2021</td>\n",
       "      <td>1</td>\n",
       "      <td>18</td>\n",
       "      <td>0</td>\n",
       "    </tr>\n",
       "    <tr>\n",
       "      <th>2</th>\n",
       "      <td>3823</td>\n",
       "      <td>2021</td>\n",
       "      <td>1</td>\n",
       "      <td>19</td>\n",
       "      <td>1</td>\n",
       "    </tr>\n",
       "    <tr>\n",
       "      <th>3</th>\n",
       "      <td>7136</td>\n",
       "      <td>2021</td>\n",
       "      <td>1</td>\n",
       "      <td>20</td>\n",
       "      <td>2</td>\n",
       "    </tr>\n",
       "    <tr>\n",
       "      <th>4</th>\n",
       "      <td>27304</td>\n",
       "      <td>2021</td>\n",
       "      <td>1</td>\n",
       "      <td>21</td>\n",
       "      <td>3</td>\n",
       "    </tr>\n",
       "  </tbody>\n",
       "</table>\n",
       "</div>"
      ],
      "text/plain": [
       "   daily_vaccinations  year  month  day  day_of_week\n",
       "0                 112  2021      1   17            6\n",
       "1                 554  2021      1   18            0\n",
       "2                3823  2021      1   19            1\n",
       "3                7136  2021      1   20            2\n",
       "4               27304  2021      1   21            3"
      ]
     },
     "execution_count": 13,
     "metadata": {},
     "output_type": "execute_result"
    }
   ],
   "source": [
    "df_.drop(columns='date', inplace = True)\n",
    "df_.head()"
   ]
  },
  {
   "cell_type": "markdown",
   "id": "8230cdce",
   "metadata": {},
   "source": [
    "Na coluna day_of_week, os valores de 0 à 4 indicam os dias da semana, enquanto 5 e 6 representam sábado e domingo.\n",
    "Podemos enriquecer mais ainda esse dados, adicionando uma coluna weekend, indicando se naquela data pertece a semana ou ao fim de semana."
   ]
  },
  {
   "cell_type": "code",
   "execution_count": 14,
   "id": "00eff427",
   "metadata": {},
   "outputs": [
    {
     "data": {
      "text/html": [
       "<div>\n",
       "<style scoped>\n",
       "    .dataframe tbody tr th:only-of-type {\n",
       "        vertical-align: middle;\n",
       "    }\n",
       "\n",
       "    .dataframe tbody tr th {\n",
       "        vertical-align: top;\n",
       "    }\n",
       "\n",
       "    .dataframe thead th {\n",
       "        text-align: right;\n",
       "    }\n",
       "</style>\n",
       "<table border=\"1\" class=\"dataframe\">\n",
       "  <thead>\n",
       "    <tr style=\"text-align: right;\">\n",
       "      <th></th>\n",
       "      <th>daily_vaccinations</th>\n",
       "      <th>year</th>\n",
       "      <th>month</th>\n",
       "      <th>day</th>\n",
       "      <th>day_of_week</th>\n",
       "      <th>weekend</th>\n",
       "    </tr>\n",
       "  </thead>\n",
       "  <tbody>\n",
       "    <tr>\n",
       "      <th>0</th>\n",
       "      <td>112</td>\n",
       "      <td>2021</td>\n",
       "      <td>1</td>\n",
       "      <td>17</td>\n",
       "      <td>6</td>\n",
       "      <td>1</td>\n",
       "    </tr>\n",
       "    <tr>\n",
       "      <th>1</th>\n",
       "      <td>554</td>\n",
       "      <td>2021</td>\n",
       "      <td>1</td>\n",
       "      <td>18</td>\n",
       "      <td>0</td>\n",
       "      <td>0</td>\n",
       "    </tr>\n",
       "    <tr>\n",
       "      <th>2</th>\n",
       "      <td>3823</td>\n",
       "      <td>2021</td>\n",
       "      <td>1</td>\n",
       "      <td>19</td>\n",
       "      <td>1</td>\n",
       "      <td>0</td>\n",
       "    </tr>\n",
       "    <tr>\n",
       "      <th>3</th>\n",
       "      <td>7136</td>\n",
       "      <td>2021</td>\n",
       "      <td>1</td>\n",
       "      <td>20</td>\n",
       "      <td>2</td>\n",
       "      <td>0</td>\n",
       "    </tr>\n",
       "    <tr>\n",
       "      <th>4</th>\n",
       "      <td>27304</td>\n",
       "      <td>2021</td>\n",
       "      <td>1</td>\n",
       "      <td>21</td>\n",
       "      <td>3</td>\n",
       "      <td>0</td>\n",
       "    </tr>\n",
       "  </tbody>\n",
       "</table>\n",
       "</div>"
      ],
      "text/plain": [
       "   daily_vaccinations  year  month  day  day_of_week  weekend\n",
       "0                 112  2021      1   17            6        1\n",
       "1                 554  2021      1   18            0        0\n",
       "2                3823  2021      1   19            1        0\n",
       "3                7136  2021      1   20            2        0\n",
       "4               27304  2021      1   21            3        0"
      ]
     },
     "execution_count": 14,
     "metadata": {},
     "output_type": "execute_result"
    }
   ],
   "source": [
    "df_['weekend'] = 0\n",
    "df_.loc[(df_.day_of_week == 5) | (df_.day_of_week == 6), 'weekend'] = 1\n",
    "df_.head()"
   ]
  },
  {
   "cell_type": "markdown",
   "id": "38980471",
   "metadata": {},
   "source": [
    "Agora temos 1 indicando que a data é final de semana e 0 dia da semana. Vamos usar essa informação, para saber o quanto que as vacinas são aplicadas na semana e no final de semana."
   ]
  },
  {
   "cell_type": "code",
   "execution_count": 15,
   "id": "48cc2512",
   "metadata": {},
   "outputs": [
    {
     "data": {
      "text/plain": [
       "0    114\n",
       "1     40\n",
       "Name: weekend, dtype: int64"
      ]
     },
     "execution_count": 15,
     "metadata": {},
     "output_type": "execute_result"
    }
   ],
   "source": [
    "df_.weekend.value_counts()"
   ]
  },
  {
   "cell_type": "code",
   "execution_count": 16,
   "id": "f6a06daa",
   "metadata": {},
   "outputs": [
    {
     "data": {
      "text/plain": [
       "<AxesSubplot:xlabel='weekend'>"
      ]
     },
     "execution_count": 16,
     "metadata": {},
     "output_type": "execute_result"
    },
    {
     "data": {
      "image/png": "[encoded data removed]",
      "text/plain": [
       "<Figure size 432x288 with 1 Axes>"
      ]
     },
     "metadata": {
      "needs_background": "light"
     },
     "output_type": "display_data"
    }
   ],
   "source": [
    "df_.groupby('weekend').daily_vaccinations.sum().plot.bar()"
   ]
  },
  {
   "cell_type": "markdown",
   "id": "a2b18b44",
   "metadata": {},
   "source": [
    "É interessante que também saibamos o quanto tem sido aplicado por mês. Por isso, vamos agrupar a quantidade de vacinas aplicadas por mês."
   ]
  },
  {
   "cell_type": "code",
   "execution_count": 17,
   "id": "ba0d9fad",
   "metadata": {},
   "outputs": [
    {
     "data": {
      "text/plain": [
       "month\n",
       "1     1430187\n",
       "2     6379701\n",
       "3     8682407\n",
       "4    19040096\n",
       "5    20658203\n",
       "6    24373563\n",
       "7    13108525\n",
       "Name: daily_vaccinations, dtype: int64"
      ]
     },
     "execution_count": 17,
     "metadata": {},
     "output_type": "execute_result"
    }
   ],
   "source": [
    "df_.groupby('month').daily_vaccinations.sum()"
   ]
  },
  {
   "cell_type": "code",
   "execution_count": 18,
   "id": "7a2d39bf",
   "metadata": {},
   "outputs": [
    {
     "data": {
      "image/png": "[encoded data removed]",
      "text/plain": [
       "<Figure size 432x288 with 1 Axes>"
      ]
     },
     "metadata": {
      "needs_background": "light"
     },
     "output_type": "display_data"
    }
   ],
   "source": [
    "df_.groupby('month').daily_vaccinations.sum().plot.bar();"
   ]
  },
  {
   "cell_type": "markdown",
   "id": "65e3f4ef",
   "metadata": {},
   "source": [
    "O gráfico apresenta o quanto a aplicação da vacina tem crescido ao longo desses meses."
   ]
  },
  {
   "cell_type": "markdown",
   "id": "45583968",
   "metadata": {},
   "source": [
    "## Referências\n",
    "\n",
    "[Demistificando Séries temporais - Fernando Amaral](https://www.youtube.com/watch?v=0RbUk3pjSKY)\n",
    "\n",
    "[#PYRENTENA - Introdução às Séries Temporais (Time Series)](https://www.youtube.com/watch?v=HCT0J5DGgrY&t=2287s)"
   ]
  },
  {
   "cell_type": "markdown",
   "id": "dd4dd4eb",
   "metadata": {},
   "source": [
    "#### Para acessar o material em vídeo no Youtube: \n",
    "\n",
    "[Introdução à séries temporais](https://youtu.be/Spg1XND1lpE)\n"
   ]
  }
 ],
 "metadata": {
  "kernelspec": {
   "display_name": "Python (myenv)",
   "language": "python",
   "name": "myenv"
  },
  "language_info": {
   "codemirror_mode": {
    "name": "ipython",
    "version": 3
   },
   "file_extension": ".py",
   "mimetype": "text/x-python",
   "name": "python",
   "nbconvert_exporter": "python",
   "pygments_lexer": "ipython3",
   "version": "3.9.1"
  }
 },
 "nbformat": 4,
 "nbformat_minor": 5
}
